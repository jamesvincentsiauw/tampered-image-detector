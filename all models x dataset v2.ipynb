{
 "cells": [
  {
   "cell_type": "code",
   "execution_count": 6,
   "metadata": {},
   "outputs": [],
   "source": [
    "import pandas as pd\n",
    "import os\n",
    "import numpy as np\n",
    "from pylab import *\n",
    "from PIL import Image, ImageChops, ImageEnhance\n",
    "from keras.models import load_model\n",
    "from keras.utils.np_utils import to_categorical\n",
    "from keras.preprocessing import image\n",
    "\n",
    "# from sklearn.metrics import roc_curve\n",
    "from sklearn.model_selection import train_test_split\n",
    "from sklearn.metrics import accuracy_score, precision_score, recall_score, f1_score, confusion_matrix, roc_curve, auc\n",
    "import itertools\n",
    "import pickle"
   ]
  },
  {
   "cell_type": "code",
   "execution_count": 7,
   "metadata": {},
   "outputs": [],
   "source": [
    "def convert_to_ela_image(path, quality):\n",
    "    filename = path\n",
    "    resaved_filename = filename.split('.')[0] + '.resaved.jpg'\n",
    "    ELA_filename = filename.split('.')[0] + '.ela.png'\n",
    "    \n",
    "    im = Image.open(filename).convert('RGB')\n",
    "    im.save(resaved_filename, 'JPEG', quality=quality)\n",
    "    resaved_im = Image.open(resaved_filename)\n",
    "    \n",
    "    ela_im = ImageChops.difference(im, resaved_im)\n",
    "    \n",
    "    extrema = ela_im.getextrema()\n",
    "    max_diff = max([ex[1] for ex in extrema])\n",
    "    if max_diff == 0:\n",
    "        max_diff = 1\n",
    "    scale = 255.0 / max_diff\n",
    "    \n",
    "    ela_im = ImageEnhance.Brightness(ela_im).enhance(scale)\n",
    "    \n",
    "    return ela_im"
   ]
  },
  {
   "cell_type": "code",
   "execution_count": 5,
   "metadata": {},
   "outputs": [],
   "source": [
    "# model = load_model('saved-models/model-v1-with-casia.h5')\n",
    "model = load_model('saved-models/model-v4-with-additional-hidden-layer.h5')"
   ]
  },
  {
   "cell_type": "code",
   "execution_count": 36,
   "metadata": {},
   "outputs": [],
   "source": [
    "# dataset = pd.read_csv('datasets/dataset-v2/real_and_fake_face/real-fake-dataset.csv')"
   ]
  },
  {
   "cell_type": "code",
   "execution_count": 37,
   "metadata": {},
   "outputs": [],
   "source": [
    "# X = []\n",
    "# Y = []"
   ]
  },
  {
   "cell_type": "code",
   "execution_count": 38,
   "metadata": {
    "scrolled": true
   },
   "outputs": [],
   "source": [
    "# count = 0\n",
    "# for index, row in dataset.iterrows():\n",
    "#     if count == 10000:\n",
    "#         break\n",
    "#     if os.path.isfile(row[0]):\n",
    "#         X.append(array(convert_to_ela_image(row[0], 90).resize((128, 128))).flatten() / 255.0)\n",
    "#         Y.append(row[1])\n",
    "#         count += 1\n",
    "#         print('done: '+str(count))\n",
    "# print(\"==== FINISHED ====\")"
   ]
  },
  {
   "cell_type": "code",
   "execution_count": 39,
   "metadata": {},
   "outputs": [],
   "source": [
    "# X = np.array(X)\n",
    "# Y = to_categorical(Y, 2)\n",
    "# X = X.reshape(-1, 128, 128, 3)"
   ]
  },
  {
   "cell_type": "code",
   "execution_count": 40,
   "metadata": {},
   "outputs": [],
   "source": [
    "# ## Dump data to pickle\n",
    "# output = open('X_data.pkl', 'wb')\n",
    "# pickle.dump(X, output)\n",
    "# output.close()\n",
    "# output = open('Y_data.pkl', 'wb')\n",
    "# pickle.dump(Y, output)\n",
    "# output.close()"
   ]
  },
  {
   "cell_type": "code",
   "execution_count": 9,
   "metadata": {},
   "outputs": [],
   "source": [
    "X_pkl_file = open('datasets/X_data.pkl', 'rb')\n",
    "X = pickle.load(X_pkl_file)\n",
    "Y_pkl_file = open('datasets/Y_data.pkl', 'rb')\n",
    "Y = pickle.load(Y_pkl_file)"
   ]
  },
  {
   "cell_type": "code",
   "execution_count": 10,
   "metadata": {},
   "outputs": [],
   "source": [
    "X_train, X_val, Y_train, Y_val = train_test_split(X, Y, test_size = 0.9, random_state=5)"
   ]
  },
  {
   "cell_type": "code",
   "execution_count": 11,
   "metadata": {},
   "outputs": [],
   "source": [
    "def plot_confusion_matrix(cm, classes,\n",
    "                          normalize=False,\n",
    "                          title='Confusion matrix',\n",
    "                          cmap=plt.cm.Blues):\n",
    "    \"\"\"\n",
    "    This function prints and plots the confusion matrix.\n",
    "    Normalization can be applied by setting `normalize=True`.\n",
    "    \"\"\"\n",
    "    plt.imshow(cm, interpolation='nearest', cmap=cmap)\n",
    "    plt.title(title)\n",
    "    plt.colorbar()\n",
    "    tick_marks = np.arange(len(classes))\n",
    "    plt.xticks(tick_marks, classes, rotation=45)\n",
    "    plt.yticks(tick_marks, classes)\n",
    "\n",
    "    if normalize:\n",
    "        cm = cm.astype('float') / cm.sum(axis=1)[:, np.newaxis]\n",
    "\n",
    "    thresh = cm.max() / 2.\n",
    "    for i, j in itertools.product(range(cm.shape[0]), range(cm.shape[1])):\n",
    "        plt.text(j, i, cm[i, j],\n",
    "                 horizontalalignment=\"center\",\n",
    "                 color=\"white\" if cm[i, j] > thresh else \"black\")\n",
    "\n",
    "    plt.tight_layout()\n",
    "    plt.ylabel('True label')\n",
    "    plt.xlabel('Predicted label')"
   ]
  },
  {
   "cell_type": "markdown",
   "metadata": {},
   "source": [
    "### MODEL V1 PREDICT DATASET V2"
   ]
  },
  {
   "cell_type": "code",
   "execution_count": 66,
   "metadata": {},
   "outputs": [
    {
     "name": "stdout",
     "output_type": "stream",
     "text": [
      "3220/3220 [==============================] - 30s 9ms/step\n"
     ]
    },
    {
     "data": {
      "image/png": "[encoded data removed]",
      "text/plain": [
       "<Figure size 432x288 with 2 Axes>"
      ]
     },
     "metadata": {
      "needs_background": "light"
     },
     "output_type": "display_data"
    }
   ],
   "source": [
    "Y_pred = model.predict(X_val, verbose=1)\n",
    "# Convert predictions classes to one hot vectors \n",
    "Y_pred_classes = np.argmax(Y_pred,axis = 1) \n",
    "# Convert validation observations to one hot vectors\n",
    "Y_true = np.argmax(Y_val,axis = 1) \n",
    "# compute the confusion matrix\n",
    "confusion_mtx = confusion_matrix(Y_true, Y_pred_classes) \n",
    "# plot the confusion matrix\n",
    "plot_confusion_matrix(confusion_mtx, classes = range(2))"
   ]
  },
  {
   "cell_type": "markdown",
   "metadata": {},
   "source": [
    "### MODEL V1 ROC CURVE"
   ]
  },
  {
   "cell_type": "code",
   "execution_count": 67,
   "metadata": {},
   "outputs": [
    {
     "name": "stdout",
     "output_type": "stream",
     "text": [
      "3220/3220 [==============================] - 30s 9ms/step\n"
     ]
    }
   ],
   "source": [
    "y_pred_proba = model.predict_proba(X_val, verbose=1)"
   ]
  },
  {
   "cell_type": "code",
   "execution_count": 68,
   "metadata": {},
   "outputs": [
    {
     "data": {
      "text/plain": [
       "<matplotlib.legend.Legend at 0x7f68285b9450>"
      ]
     },
     "execution_count": 68,
     "metadata": {},
     "output_type": "execute_result"
    },
    {
     "data": {
      "image/png": "[encoded data removed]",
      "text/plain": [
       "<Figure size 720x288 with 1 Axes>"
      ]
     },
     "metadata": {
      "needs_background": "light"
     },
     "output_type": "display_data"
    }
   ],
   "source": [
    "fpr_keras, tpr_keras, thresholds_keras = roc_curve(Y_pred_classes, y_pred_proba[:,1])\n",
    "auc_keras = auc(fpr_keras, tpr_keras)\n",
    "\n",
    "plt.figure(figsize=(10,4))\n",
    "plt.plot(fpr_keras, tpr_keras, label='ROC curve (area = %0.2f)' % (auc_keras))\n",
    "plt.plot([0, 1], [0, 1], 'k--')\n",
    "plt.xlim([0.0, 1.0])\n",
    "plt.ylim([0.0, 1.05])\n",
    "plt.xlabel('False Positive Rate')\n",
    "plt.ylabel('True Positive Rate')\n",
    "plt.title('Receiver operating characteristic')\n",
    "plt.legend(loc=\"lower right\")"
   ]
  },
  {
   "cell_type": "code",
   "execution_count": 69,
   "metadata": {},
   "outputs": [
    {
     "data": {
      "text/plain": [
       "array([0., 0., 0., 0., 0., 0., 0., 0., 0., 0., 0., 0., 0., 0., 0., 0., 0.,\n",
       "       0., 0., 0., 0., 0., 0., 0., 0., 0., 0., 0., 0., 0., 0., 0., 0., 0.,\n",
       "       0., 0., 0., 0., 0., 0., 0., 0., 0., 0., 0., 0., 0., 1.])"
      ]
     },
     "execution_count": 69,
     "metadata": {},
     "output_type": "execute_result"
    }
   ],
   "source": [
    "fpr_keras"
   ]
  },
  {
   "cell_type": "code",
   "execution_count": 70,
   "metadata": {},
   "outputs": [
    {
     "data": {
      "text/plain": [
       "array([0.        , 0.00256504, 0.00329791, 0.00476365, 0.00549652,\n",
       "       0.00586295, 0.00696226, 0.008428  , 0.00879443, 0.0095273 ,\n",
       "       0.0106266 , 0.01172591, 0.01355808, 0.01429095, 0.02052034,\n",
       "       0.02125321, 0.02638329, 0.02711616, 0.03297911, 0.03407842,\n",
       "       0.03627702, 0.03700989, 0.04250641, 0.04323928, 0.05972884,\n",
       "       0.06046171, 0.06082814, 0.06156101, 0.06815683, 0.0688897 ,\n",
       "       0.06925614, 0.06998901, 0.08281422, 0.08354709, 0.2128985 ,\n",
       "       0.21363137, 0.26749725, 0.26823012, 0.27042873, 0.2711616 ,\n",
       "       0.27849029, 0.27922316, 0.39281788, 0.39355075, 0.6397948 ,\n",
       "       0.64052767, 1.        , 1.        ])"
      ]
     },
     "execution_count": 70,
     "metadata": {},
     "output_type": "execute_result"
    }
   ],
   "source": [
    "tpr_keras"
   ]
  },
  {
   "cell_type": "code",
   "execution_count": 71,
   "metadata": {},
   "outputs": [
    {
     "data": {
      "text/plain": [
       "array([2.0000000e+00, 1.0000000e+00, 9.9999988e-01, 9.9999976e-01,\n",
       "       9.9999964e-01, 9.9999952e-01, 9.9999940e-01, 9.9999917e-01,\n",
       "       9.9999893e-01, 9.9999881e-01, 9.9999821e-01, 9.9999809e-01,\n",
       "       9.9999690e-01, 9.9999678e-01, 9.9999094e-01, 9.9999082e-01,\n",
       "       9.9998212e-01, 9.9998176e-01, 9.9996805e-01, 9.9996758e-01,\n",
       "       9.9996257e-01, 9.9996054e-01, 9.9994755e-01, 9.9994707e-01,\n",
       "       9.9989665e-01, 9.9989450e-01, 9.9989271e-01, 9.9989152e-01,\n",
       "       9.9986315e-01, 9.9985969e-01, 9.9985945e-01, 9.9985862e-01,\n",
       "       9.9979955e-01, 9.9979919e-01, 9.9860805e-01, 9.9858898e-01,\n",
       "       9.9724317e-01, 9.9724209e-01, 9.9720347e-01, 9.9720192e-01,\n",
       "       9.9699700e-01, 9.9698919e-01, 9.9226236e-01, 9.9220312e-01,\n",
       "       9.5790523e-01, 9.5759696e-01, 5.0008589e-01, 9.3791286e-08],\n",
       "      dtype=float32)"
      ]
     },
     "execution_count": 71,
     "metadata": {},
     "output_type": "execute_result"
    }
   ],
   "source": [
    "thresholds_keras"
   ]
  },
  {
   "cell_type": "code",
   "execution_count": 72,
   "metadata": {},
   "outputs": [
    {
     "name": "stdout",
     "output_type": "stream",
     "text": [
      "Model V1 Accuracy: 72.17391304347827 %\n",
      "Model V1 Precision: 74.97251740564309 %\n",
      "Model V1 Recall: 90.57104913678619 %\n",
      "Model V1 F1-score: 82.03688853247795 %\n"
     ]
    }
   ],
   "source": [
    "print(\"Model V1 Accuracy: {} %\".format(accuracy_score(Y_val[:,1], Y_pred_classes) * 100))\n",
    "print(\"Model V1 Precision: {} %\".format(precision_score(Y_val[:,1], Y_pred_classes) * 100))\n",
    "print(\"Model V1 Recall: {} %\".format(recall_score(Y_val[:,1], Y_pred_classes) * 100))\n",
    "print(\"Model V1 F1-score: {} %\".format(f1_score(Y_val[:,1], Y_pred_classes) * 100))"
   ]
  },
  {
   "cell_type": "markdown",
   "metadata": {},
   "source": [
    "### MODEL V2 PREDICT DATASET V2"
   ]
  },
  {
   "cell_type": "code",
   "execution_count": 58,
   "metadata": {},
   "outputs": [
    {
     "name": "stdout",
     "output_type": "stream",
     "text": [
      "3220/3220 [==============================] - 30s 9ms/step\n"
     ]
    },
    {
     "data": {
      "image/png": "[encoded data removed]",
      "text/plain": [
       "<Figure size 432x288 with 2 Axes>"
      ]
     },
     "metadata": {
      "needs_background": "light"
     },
     "output_type": "display_data"
    }
   ],
   "source": [
    "Y_pred = model.predict(X_val, verbose=1)\n",
    "# Convert predictions classes to one hot vectors \n",
    "Y_pred_classes = np.argmax(Y_pred,axis = 1) \n",
    "# Convert validation observations to one hot vectors\n",
    "Y_true = np.argmax(Y_val,axis = 1) \n",
    "# compute the confusion matrix\n",
    "confusion_mtx = confusion_matrix(Y_true, Y_pred_classes) \n",
    "# plot the confusion matrix\n",
    "plot_confusion_matrix(confusion_mtx, classes = range(2))"
   ]
  },
  {
   "cell_type": "markdown",
   "metadata": {},
   "source": [
    "### MODEL V2 ROC CURVE"
   ]
  },
  {
   "cell_type": "code",
   "execution_count": 59,
   "metadata": {},
   "outputs": [
    {
     "name": "stdout",
     "output_type": "stream",
     "text": [
      "3220/3220 [==============================] - 30s 9ms/step\n"
     ]
    }
   ],
   "source": [
    "y_pred_proba = model.predict_proba(X_val, verbose=1)"
   ]
  },
  {
   "cell_type": "code",
   "execution_count": 36,
   "metadata": {},
   "outputs": [
    {
     "data": {
      "text/plain": [
       "<matplotlib.legend.Legend at 0x7f6828470490>"
      ]
     },
     "execution_count": 36,
     "metadata": {},
     "output_type": "execute_result"
    },
    {
     "data": {
      "image/png": "[encoded data removed]",
      "text/plain": [
       "<Figure size 720x288 with 1 Axes>"
      ]
     },
     "metadata": {
      "needs_background": "light"
     },
     "output_type": "display_data"
    }
   ],
   "source": [
    "fpr_keras, tpr_keras, thresholds_keras = roc_curve(Y_pred_classes, y_pred_proba[:,1])\n",
    "auc_keras = auc(fpr_keras, tpr_keras)\n",
    "\n",
    "plt.figure(figsize=(10,4))\n",
    "plt.plot(fpr_keras, tpr_keras, label='ROC curve (area = %0.2f)' % (auc_keras))\n",
    "plt.plot([0, 1], [0, 1], 'k--')\n",
    "plt.xlim([0.0, 1.0])\n",
    "plt.ylim([0.0, 1.05])\n",
    "plt.xlabel('False Positive Rate')\n",
    "plt.ylabel('True Positive Rate')\n",
    "plt.title('Receiver operating characteristic')\n",
    "plt.legend(loc=\"lower right\")"
   ]
  },
  {
   "cell_type": "code",
   "execution_count": 60,
   "metadata": {
    "scrolled": true
   },
   "outputs": [
    {
     "data": {
      "text/plain": [
       "array([0., 0., 0., 0., 0., 0., 0., 0., 0., 0., 0., 0., 0., 0., 0., 0., 0.,\n",
       "       0., 0., 0., 0., 0., 0., 0., 0., 0., 0., 0., 0., 0., 0., 0., 0., 0.,\n",
       "       0., 0., 0., 0., 0., 0., 0., 0., 0., 0., 0., 0., 0., 0., 0., 0., 0.,\n",
       "       0., 0., 1.])"
      ]
     },
     "execution_count": 60,
     "metadata": {},
     "output_type": "execute_result"
    }
   ],
   "source": [
    "fpr_keras"
   ]
  },
  {
   "cell_type": "code",
   "execution_count": 61,
   "metadata": {
    "scrolled": true
   },
   "outputs": [
    {
     "data": {
      "text/plain": [
       "array([0.        , 0.42784693, 0.44536653, 0.45550945, 0.461503  ,\n",
       "       0.46334716, 0.46795758, 0.47118488, 0.472568  , 0.47487321,\n",
       "       0.47625634, 0.47856155, 0.47948363, 0.48317197, 0.48547718,\n",
       "       0.48639926, 0.48778239, 0.49054864, 0.49100968, 0.49193177,\n",
       "       0.49239281, 0.49331489, 0.49377593, 0.4956201 , 0.49700323,\n",
       "       0.4988474 , 0.49930844, 0.50069156, 0.50161365, 0.50299677,\n",
       "       0.50391886, 0.5043799 , 0.50622407, 0.50668511, 0.50806823,\n",
       "       0.50945136, 0.51129553, 0.51221761, 0.5131397 , 0.51452282,\n",
       "       0.51590595, 0.51682803, 0.51821116, 0.51913324, 0.52282158,\n",
       "       0.52374366, 0.54817888, 0.54910097, 0.62932227, 0.63024435,\n",
       "       0.6330106 , 0.63393269, 1.        , 1.        ])"
      ]
     },
     "execution_count": 61,
     "metadata": {},
     "output_type": "execute_result"
    }
   ],
   "source": [
    "tpr_keras"
   ]
  },
  {
   "cell_type": "code",
   "execution_count": 62,
   "metadata": {
    "scrolled": true
   },
   "outputs": [
    {
     "data": {
      "text/plain": [
       "array([2.0000000e+00, 1.0000000e+00, 9.9999988e-01, 9.9999964e-01,\n",
       "       9.9999952e-01, 9.9999940e-01, 9.9999928e-01, 9.9999917e-01,\n",
       "       9.9999905e-01, 9.9999893e-01, 9.9999881e-01, 9.9999857e-01,\n",
       "       9.9999845e-01, 9.9999821e-01, 9.9999809e-01, 9.9999797e-01,\n",
       "       9.9999785e-01, 9.9999774e-01, 9.9999762e-01, 9.9999750e-01,\n",
       "       9.9999738e-01, 9.9999726e-01, 9.9999714e-01, 9.9999666e-01,\n",
       "       9.9999630e-01, 9.9999607e-01, 9.9999595e-01, 9.9999583e-01,\n",
       "       9.9999559e-01, 9.9999547e-01, 9.9999523e-01, 9.9999499e-01,\n",
       "       9.9999475e-01, 9.9999464e-01, 9.9999452e-01, 9.9999380e-01,\n",
       "       9.9999368e-01, 9.9999356e-01, 9.9999273e-01, 9.9999261e-01,\n",
       "       9.9999154e-01, 9.9999130e-01, 9.9999058e-01, 9.9998999e-01,\n",
       "       9.9998581e-01, 9.9998522e-01, 9.9995029e-01, 9.9994707e-01,\n",
       "       9.9889994e-01, 9.9887866e-01, 9.9882275e-01, 9.9881494e-01,\n",
       "       5.0101334e-01, 2.0023032e-05], dtype=float32)"
      ]
     },
     "execution_count": 62,
     "metadata": {},
     "output_type": "execute_result"
    }
   ],
   "source": [
    "thresholds_keras"
   ]
  },
  {
   "cell_type": "code",
   "execution_count": 63,
   "metadata": {},
   "outputs": [
    {
     "name": "stdout",
     "output_type": "stream",
     "text": [
      "Model V2 Accuracy: 88.4472049689441 %\n",
      "Model V2 Precision: 95.73436742607852 %\n",
      "Model V2 Recall: 87.42806551571492 %\n",
      "Model V2 F1-score: 91.3928736695974 %\n"
     ]
    }
   ],
   "source": [
    "print(\"Model V2 Accuracy: {} %\".format(accuracy_score(Y_val[:,1], Y_pred_classes) * 100))\n",
    "print(\"Model V2 Precision: {} %\".format(precision_score(Y_val[:,1], Y_pred_classes) * 100))\n",
    "print(\"Model V2 Recall: {} %\".format(recall_score(Y_val[:,1], Y_pred_classes) * 100))\n",
    "print(\"Model V2 F1-score: {} %\".format(f1_score(Y_val[:,1], Y_pred_classes) * 100))"
   ]
  },
  {
   "cell_type": "markdown",
   "metadata": {},
   "source": [
    "### MODEL V3 PREDICT DATASET V2"
   ]
  },
  {
   "cell_type": "code",
   "execution_count": 39,
   "metadata": {},
   "outputs": [
    {
     "name": "stdout",
     "output_type": "stream",
     "text": [
      "3220/3220 [==============================] - 29s 9ms/step\n"
     ]
    },
    {
     "data": {
      "image/png": "[encoded data removed]",
      "text/plain": [
       "<Figure size 432x288 with 2 Axes>"
      ]
     },
     "metadata": {
      "needs_background": "light"
     },
     "output_type": "display_data"
    }
   ],
   "source": [
    "#  (clf.predict_proba(X_test)[:,1] >= 0.7367280663362746)\n",
    "Y_pred = model.predict(X_val, verbose=1)\n",
    "# Convert predictions classes to one hot vectors \n",
    "Y_pred_classes = np.argmax(Y_pred,axis = 1) \n",
    "# Convert validation observations to one hot vectors\n",
    "Y_true = np.argmax(array(Y_val),axis = 1) \n",
    "# compute the confusion matrix\n",
    "confusion_mtx = confusion_matrix(Y_true, Y_pred_classes) \n",
    "# # plot the confusion matrix\n",
    "plot_confusion_matrix(confusion_mtx, classes = range(2))"
   ]
  },
  {
   "cell_type": "markdown",
   "metadata": {},
   "source": [
    "### MODEL V3 ROC CURVE"
   ]
  },
  {
   "cell_type": "code",
   "execution_count": 45,
   "metadata": {},
   "outputs": [
    {
     "name": "stdout",
     "output_type": "stream",
     "text": [
      "3220/3220 [==============================] - 29s 9ms/step\n"
     ]
    }
   ],
   "source": [
    "y_pred_proba = model.predict_proba(X_val, verbose=1)"
   ]
  },
  {
   "cell_type": "code",
   "execution_count": 54,
   "metadata": {},
   "outputs": [
    {
     "data": {
      "text/plain": [
       "<matplotlib.legend.Legend at 0x7f682803add0>"
      ]
     },
     "execution_count": 54,
     "metadata": {},
     "output_type": "execute_result"
    },
    {
     "data": {
      "image/png": "[encoded data removed]",
      "text/plain": [
       "<Figure size 720x288 with 1 Axes>"
      ]
     },
     "metadata": {
      "needs_background": "light"
     },
     "output_type": "display_data"
    }
   ],
   "source": [
    "fpr_keras, tpr_keras, thresholds_keras = roc_curve(Y_pred_classes, y_pred_proba[:,1])\n",
    "auc_keras = auc(fpr_keras, tpr_keras)\n",
    "\n",
    "plt.figure(figsize=(10,4))\n",
    "plt.plot(fpr_keras, tpr_keras, label='ROC curve (area = %0.2f)' % (auc_keras))\n",
    "plt.plot([0, 1], [0, 1], 'k--')\n",
    "plt.xlim([0.0, 1.0])\n",
    "plt.ylim([0.0, 1.05])\n",
    "plt.xlabel('False Positive Rate')\n",
    "plt.ylabel('True Positive Rate')\n",
    "plt.title('Receiver operating characteristic')\n",
    "plt.legend(loc=\"lower right\")"
   ]
  },
  {
   "cell_type": "code",
   "execution_count": 55,
   "metadata": {
    "scrolled": true
   },
   "outputs": [
    {
     "data": {
      "text/plain": [
       "array([0., 0., 0., 0., 0., 0., 0., 0., 0., 0., 0., 0., 0., 0., 0., 0., 0.,\n",
       "       0., 0., 0., 0., 0., 0., 0., 0., 0., 0., 0., 0., 0., 0., 0., 0., 0.,\n",
       "       0., 0., 0., 0., 0., 0., 0., 0., 0., 0., 0., 0., 0., 0., 0., 0., 0.,\n",
       "       0., 0., 1.])"
      ]
     },
     "execution_count": 55,
     "metadata": {},
     "output_type": "execute_result"
    }
   ],
   "source": [
    "fpr_keras"
   ]
  },
  {
   "cell_type": "code",
   "execution_count": 56,
   "metadata": {
    "scrolled": true
   },
   "outputs": [
    {
     "data": {
      "text/plain": [
       "array([0.        , 0.42784693, 0.44536653, 0.45550945, 0.461503  ,\n",
       "       0.46334716, 0.46795758, 0.47118488, 0.472568  , 0.47487321,\n",
       "       0.47625634, 0.47856155, 0.47948363, 0.48317197, 0.48547718,\n",
       "       0.48639926, 0.48778239, 0.49054864, 0.49100968, 0.49193177,\n",
       "       0.49239281, 0.49331489, 0.49377593, 0.4956201 , 0.49700323,\n",
       "       0.4988474 , 0.49930844, 0.50069156, 0.50161365, 0.50299677,\n",
       "       0.50391886, 0.5043799 , 0.50622407, 0.50668511, 0.50806823,\n",
       "       0.50945136, 0.51129553, 0.51221761, 0.5131397 , 0.51452282,\n",
       "       0.51590595, 0.51682803, 0.51821116, 0.51913324, 0.52282158,\n",
       "       0.52374366, 0.54817888, 0.54910097, 0.62932227, 0.63024435,\n",
       "       0.6330106 , 0.63393269, 1.        , 1.        ])"
      ]
     },
     "execution_count": 56,
     "metadata": {},
     "output_type": "execute_result"
    }
   ],
   "source": [
    "tpr_keras"
   ]
  },
  {
   "cell_type": "code",
   "execution_count": 43,
   "metadata": {
    "scrolled": true
   },
   "outputs": [
    {
     "data": {
      "text/plain": [
       "array([2.00000000e+00, 1.00000000e+00, 9.99999881e-01, 9.99999762e-01,\n",
       "       9.99999523e-01, 9.99999166e-01, 9.99999046e-01, 9.99998808e-01,\n",
       "       9.99998689e-01, 9.99998212e-01, 9.99998093e-01, 9.99997973e-01,\n",
       "       9.99997854e-01, 9.99997139e-01, 9.99996662e-01, 9.99996185e-01,\n",
       "       9.99992490e-01, 9.99992013e-01, 9.99990582e-01, 9.99989748e-01,\n",
       "       9.99989033e-01, 9.99988556e-01, 9.99970794e-01, 9.99970675e-01,\n",
       "       9.99940276e-01, 9.99939442e-01, 9.99915242e-01, 9.99912977e-01,\n",
       "       9.99910474e-01, 9.99907732e-01, 9.99887228e-01, 9.99887109e-01,\n",
       "       9.99515176e-01, 9.99514580e-01, 9.98861432e-01, 9.98856783e-01,\n",
       "       9.98214841e-01, 9.98187721e-01, 9.96179461e-01, 9.96148467e-01,\n",
       "       9.95201468e-01, 9.95189309e-01, 9.94516194e-01, 9.94431794e-01,\n",
       "       9.93568778e-01, 9.93507266e-01, 9.82921541e-01, 9.82842028e-01,\n",
       "       9.77625191e-01, 9.77532268e-01, 9.73852217e-01, 9.73527968e-01,\n",
       "       9.68306065e-01, 9.68189538e-01, 9.65596735e-01, 9.65467453e-01,\n",
       "       9.64177251e-01, 9.63853180e-01, 9.59608316e-01, 9.59593832e-01,\n",
       "       9.59577918e-01, 9.59255874e-01, 9.51432288e-01, 9.51429486e-01,\n",
       "       9.42731619e-01, 9.42686498e-01, 9.42424476e-01, 9.42381382e-01,\n",
       "       9.40878570e-01, 9.40834999e-01, 9.38812077e-01, 9.38643396e-01,\n",
       "       9.36074078e-01, 9.35877740e-01, 9.34148848e-01, 9.34136033e-01,\n",
       "       9.30842042e-01, 9.30633962e-01, 9.11856830e-01, 9.11673844e-01,\n",
       "       9.10824478e-01, 9.09675181e-01, 9.04925346e-01, 9.04414356e-01,\n",
       "       8.91728163e-01, 8.91527712e-01, 8.86196256e-01, 8.85934651e-01,\n",
       "       8.80275369e-01, 8.79789472e-01, 8.78433526e-01, 8.78362596e-01,\n",
       "       8.76201093e-01, 8.75553310e-01, 8.73176455e-01, 8.73040855e-01,\n",
       "       8.67525578e-01, 8.67242992e-01, 8.62909377e-01, 8.62848938e-01,\n",
       "       8.61202300e-01, 8.60856175e-01, 8.59073877e-01, 8.58677983e-01,\n",
       "       8.55758190e-01, 8.55531752e-01, 8.51354539e-01, 8.50004971e-01,\n",
       "       8.48008513e-01, 8.47787678e-01, 8.39661837e-01, 8.39036644e-01,\n",
       "       8.25848401e-01, 8.24271023e-01, 8.21809947e-01, 8.21796417e-01,\n",
       "       8.21253479e-01, 8.20437312e-01, 8.15793991e-01, 8.15264285e-01,\n",
       "       8.11863899e-01, 8.10945928e-01, 8.10452044e-01, 8.10043752e-01,\n",
       "       8.09854329e-01, 8.09412360e-01, 8.02316427e-01, 8.01849365e-01,\n",
       "       8.01506817e-01, 8.01478148e-01, 7.99358606e-01, 7.98909724e-01,\n",
       "       7.98613071e-01, 7.98314273e-01, 7.94761837e-01, 7.94009864e-01,\n",
       "       7.87586749e-01, 7.86564946e-01, 7.81093299e-01, 7.80878484e-01,\n",
       "       7.78766096e-01, 7.78595626e-01, 7.74771392e-01, 7.73621619e-01,\n",
       "       7.66244411e-01, 7.65220702e-01, 7.59407341e-01, 7.58306205e-01,\n",
       "       7.58087575e-01, 7.56431699e-01, 7.53751338e-01, 7.53711402e-01,\n",
       "       7.53439188e-01, 7.51665175e-01, 7.50185549e-01, 7.48938978e-01,\n",
       "       7.48286009e-01, 7.47184038e-01, 7.43333459e-01, 7.42999971e-01,\n",
       "       7.39770353e-01, 7.38871038e-01, 7.37076879e-01, 7.36929953e-01,\n",
       "       7.35617697e-01, 7.34395385e-01, 7.30985105e-01, 7.28888392e-01,\n",
       "       7.24756420e-01, 7.23967910e-01, 7.19317734e-01, 7.16428280e-01,\n",
       "       7.16067314e-01, 7.15918660e-01, 7.12665498e-01, 7.09027648e-01,\n",
       "       7.08901644e-01, 7.08524466e-01, 7.07425356e-01, 7.05123723e-01,\n",
       "       7.04495013e-01, 7.04383314e-01, 7.04368174e-01, 7.03445196e-01,\n",
       "       6.98573411e-01, 6.98487520e-01, 6.96297109e-01, 6.95765138e-01,\n",
       "       6.92832112e-01, 6.91459954e-01, 6.87966704e-01, 6.87584937e-01,\n",
       "       6.77930117e-01, 6.77322865e-01, 6.74251497e-01, 6.73781693e-01,\n",
       "       6.73623919e-01, 6.73147857e-01, 6.63259566e-01, 6.62831068e-01,\n",
       "       6.60386860e-01, 6.59978509e-01, 6.54189587e-01, 6.52555466e-01,\n",
       "       6.50898576e-01, 6.50870025e-01, 6.50216460e-01, 6.50028467e-01,\n",
       "       6.43263102e-01, 6.42990947e-01, 6.40341163e-01, 6.40191495e-01,\n",
       "       6.39139652e-01, 6.38809144e-01, 6.36303961e-01, 6.35470748e-01,\n",
       "       6.35158181e-01, 6.34030640e-01, 6.30620360e-01, 6.26739085e-01,\n",
       "       6.26682341e-01, 6.25214517e-01, 6.23093963e-01, 6.20473742e-01,\n",
       "       6.15165949e-01, 6.13481641e-01, 6.10009491e-01, 6.08725250e-01,\n",
       "       6.07800186e-01, 6.06887400e-01, 6.06339097e-01, 6.05932593e-01,\n",
       "       6.03421748e-01, 6.00873053e-01, 5.99418163e-01, 5.99021614e-01,\n",
       "       5.87983012e-01, 5.84568918e-01, 5.83110869e-01, 5.80376029e-01,\n",
       "       5.79536378e-01, 5.77305913e-01, 5.73852956e-01, 5.72228074e-01,\n",
       "       5.72164834e-01, 5.72075129e-01, 5.63424230e-01, 5.60281038e-01,\n",
       "       5.59181571e-01, 5.57903230e-01, 5.55620611e-01, 5.53855896e-01,\n",
       "       5.53843021e-01, 5.50949931e-01, 5.49516380e-01, 5.49263000e-01,\n",
       "       5.44596970e-01, 5.42955399e-01, 5.42639792e-01, 5.42187929e-01,\n",
       "       5.38843572e-01, 5.32586277e-01, 5.30947626e-01, 5.30869246e-01,\n",
       "       5.28139174e-01, 5.27258396e-01, 5.17550707e-01, 5.13909698e-01,\n",
       "       5.13032079e-01, 5.12907565e-01, 5.11754394e-01, 5.05942583e-01,\n",
       "       5.04508376e-01, 5.03771245e-01, 5.02963543e-01, 5.02684355e-01,\n",
       "       5.02338827e-01, 5.02016246e-01, 5.01315117e-01, 4.99107271e-01,\n",
       "       4.99035150e-01, 4.98393267e-01, 4.96980846e-01, 4.96714592e-01,\n",
       "       4.96451527e-01, 4.95746017e-01, 4.95540679e-01, 4.91673499e-01,\n",
       "       4.90417004e-01, 4.88570005e-01, 4.86694604e-01, 4.86103922e-01,\n",
       "       4.81539279e-01, 4.80806559e-01, 4.77770060e-01, 4.76934820e-01,\n",
       "       4.76109564e-01, 4.75399435e-01, 4.69911128e-01, 4.69794214e-01,\n",
       "       4.68836516e-01, 4.68392819e-01, 4.68334168e-01, 4.68053162e-01,\n",
       "       4.67441648e-01, 4.66983408e-01, 4.66932654e-01, 4.66285706e-01,\n",
       "       4.64703411e-01, 4.64693248e-01, 4.60811406e-01, 4.60360438e-01,\n",
       "       4.59733963e-01, 4.58979696e-01, 4.57904547e-01, 4.57179695e-01,\n",
       "       4.54011828e-01, 4.53121394e-01, 4.51421022e-01, 4.50207502e-01,\n",
       "       4.49200034e-01, 4.46580440e-01, 4.45860714e-01, 4.44443792e-01,\n",
       "       4.44137603e-01, 4.43487734e-01, 4.41402972e-01, 4.40237701e-01,\n",
       "       4.39655483e-01, 4.39327151e-01, 4.36631233e-01, 4.36480820e-01,\n",
       "       4.34477508e-01, 4.34204251e-01, 4.33543473e-01, 4.33504939e-01,\n",
       "       4.32899415e-01, 4.32543606e-01, 4.22196925e-01, 4.19048637e-01,\n",
       "       4.18796301e-01, 4.18467402e-01, 4.14025426e-01, 4.13068324e-01,\n",
       "       4.10492718e-01, 4.10242110e-01, 4.07376111e-01, 4.05420125e-01,\n",
       "       4.03044045e-01, 4.01240081e-01, 4.00794327e-01, 4.00636613e-01,\n",
       "       3.99301320e-01, 3.96550477e-01, 3.95530075e-01, 3.94760668e-01,\n",
       "       3.93803626e-01, 3.92232388e-01, 3.90766948e-01, 3.88277203e-01,\n",
       "       3.88129979e-01, 3.88119519e-01, 3.87280971e-01, 3.87160301e-01,\n",
       "       3.86875182e-01, 3.85400534e-01, 3.84568006e-01, 3.80181104e-01,\n",
       "       3.79563242e-01, 3.78460556e-01, 3.78004014e-01, 3.77878308e-01,\n",
       "       3.76255602e-01, 3.72053385e-01, 3.71118039e-01, 3.69412303e-01,\n",
       "       3.68982434e-01, 3.67832989e-01, 3.63848239e-01, 3.63265574e-01,\n",
       "       3.62969786e-01, 3.61847043e-01, 3.60300779e-01, 3.59818667e-01,\n",
       "       3.59670669e-01, 3.59283835e-01, 3.57996911e-01, 3.55958194e-01,\n",
       "       3.55183512e-01, 3.48330379e-01, 3.45653862e-01, 3.43112856e-01,\n",
       "       3.42281014e-01, 3.39387804e-01, 3.37234676e-01, 3.33168119e-01,\n",
       "       3.33057761e-01, 3.31291914e-01, 3.31102580e-01, 3.30955893e-01,\n",
       "       3.30268085e-01, 3.28526258e-01, 3.28130215e-01, 3.27644140e-01,\n",
       "       3.26586992e-01, 3.25772226e-01, 3.23864669e-01, 3.22937042e-01,\n",
       "       3.20547253e-01, 3.17578852e-01, 3.17225069e-01, 3.15077066e-01,\n",
       "       3.13022494e-01, 3.11499625e-01, 3.09401631e-01, 3.08747947e-01,\n",
       "       3.08584899e-01, 3.05920571e-01, 3.04810345e-01, 2.98351079e-01,\n",
       "       2.96001107e-01, 2.94361234e-01, 2.93785632e-01, 2.93240517e-01,\n",
       "       2.92889982e-01, 2.91546494e-01, 2.90810972e-01, 2.88959116e-01,\n",
       "       2.87874311e-01, 2.86937237e-01, 2.85334349e-01, 2.79563397e-01,\n",
       "       2.79142886e-01, 2.78011918e-01, 2.76616007e-01, 2.76585907e-01,\n",
       "       2.75966883e-01, 2.74946719e-01, 2.74922401e-01, 2.67647743e-01,\n",
       "       2.67599523e-01, 2.66459167e-01, 2.65014678e-01, 2.62499303e-01,\n",
       "       2.61879295e-01, 2.59222806e-01, 2.58006543e-01, 2.57714331e-01,\n",
       "       2.57222593e-01, 2.49759510e-01, 2.49295786e-01, 2.47984841e-01,\n",
       "       2.46691868e-01, 2.43169487e-01, 2.42990047e-01, 2.42164522e-01,\n",
       "       2.41754025e-01, 2.41617724e-01, 2.41571367e-01, 2.41273776e-01,\n",
       "       2.40998819e-01, 2.36153126e-01, 2.35327005e-01, 2.31877580e-01,\n",
       "       2.30641142e-01, 2.23254666e-01, 2.22704098e-01, 2.20857516e-01,\n",
       "       2.20302030e-01, 2.20008686e-01, 2.18369216e-01, 2.18024373e-01,\n",
       "       2.17744067e-01, 2.16680706e-01, 2.15857789e-01, 2.10075900e-01,\n",
       "       2.09732264e-01, 2.09687069e-01, 2.09530920e-01, 2.08854377e-01,\n",
       "       2.08273187e-01, 2.07526430e-01, 2.05571741e-01, 2.02228621e-01,\n",
       "       2.01564878e-01, 2.00052127e-01, 1.99079543e-01, 1.97273418e-01,\n",
       "       1.96651816e-01, 1.94616228e-01, 1.93873540e-01, 1.92105830e-01,\n",
       "       1.91379294e-01, 1.90736368e-01, 1.90301150e-01, 1.88958347e-01,\n",
       "       1.88850552e-01, 1.87619984e-01, 1.87425286e-01, 1.86333343e-01,\n",
       "       1.85729384e-01, 1.82883143e-01, 1.81817025e-01, 1.77971527e-01,\n",
       "       1.77338257e-01, 1.76183969e-01, 1.75918475e-01, 1.74979851e-01,\n",
       "       1.74920782e-01, 1.74493253e-01, 1.74285978e-01, 1.71309799e-01,\n",
       "       1.70244232e-01, 1.69725150e-01, 1.69312835e-01, 1.68667525e-01,\n",
       "       1.67523444e-01, 1.67368993e-01, 1.65760219e-01, 1.65318355e-01,\n",
       "       1.64846063e-01, 1.63719460e-01, 1.63400337e-01, 1.63257048e-01,\n",
       "       1.62941098e-01, 1.61971465e-01, 1.61632106e-01, 1.61187038e-01,\n",
       "       1.59138769e-01, 1.54618025e-01, 1.54017806e-01, 1.53807282e-01,\n",
       "       1.53689861e-01, 1.42358527e-01, 1.39836535e-01, 1.35249794e-01,\n",
       "       1.34926781e-01, 1.31045878e-01, 1.31026492e-01, 1.29881591e-01,\n",
       "       1.29510492e-01, 1.25717878e-01, 1.25562593e-01, 1.23743288e-01,\n",
       "       1.23428330e-01, 1.23264857e-01, 1.23205304e-01, 1.23047031e-01,\n",
       "       1.22822739e-01, 1.18542433e-01, 1.17189474e-01, 1.15101360e-01,\n",
       "       1.14641458e-01, 1.14171132e-01, 1.14030868e-01, 1.08368173e-01,\n",
       "       1.07254475e-01, 1.05906785e-01, 1.05613306e-01, 1.02478907e-01,\n",
       "       1.02468520e-01, 1.01722322e-01, 1.01255834e-01, 1.00376479e-01,\n",
       "       1.00289561e-01, 9.99405086e-02, 9.98579487e-02, 9.50062498e-02,\n",
       "       9.46034193e-02, 9.25460234e-02, 9.21841487e-02, 9.17282924e-02,\n",
       "       9.16031078e-02, 8.91275257e-02, 8.86708647e-02, 8.78210738e-02,\n",
       "       8.76693651e-02, 7.95307383e-02, 7.93087631e-02, 7.48667344e-02,\n",
       "       7.45238364e-02, 7.37853497e-02, 7.29783028e-02, 6.90455288e-02,\n",
       "       6.89123943e-02, 6.02421463e-02, 6.01810813e-02, 5.46667799e-02,\n",
       "       5.45899831e-02, 4.99043688e-02, 4.95209545e-02, 4.18369323e-02,\n",
       "       4.16518003e-02, 4.13444228e-02, 4.05919589e-02, 3.93248647e-02,\n",
       "       3.88960168e-02, 3.22841220e-02, 3.19616757e-02, 3.12178116e-02,\n",
       "       3.10433228e-02, 3.01014949e-02, 2.99881287e-02, 2.38125548e-02,\n",
       "       2.36783791e-02, 2.18191817e-02, 2.17225961e-02, 2.15725377e-02,\n",
       "       2.15305276e-02, 2.11282447e-02, 2.11121365e-02, 2.10828260e-02,\n",
       "       2.09753774e-02, 2.05387268e-02, 2.03532223e-02, 2.03042105e-02,\n",
       "       2.00217571e-02, 1.63948499e-02, 1.57242548e-02, 1.55334650e-02,\n",
       "       1.49963666e-02, 1.39371855e-02, 1.34440316e-02, 1.28912609e-02,\n",
       "       1.26224756e-02, 1.01886261e-02, 9.98065807e-03, 7.55610736e-03,\n",
       "       7.40669481e-03, 5.53434296e-03, 5.49215171e-03, 3.89720034e-03,\n",
       "       3.62976268e-03, 2.15472397e-03, 1.97764975e-03, 1.18843978e-03,\n",
       "       1.12561055e-03, 1.12554361e-03, 1.10226392e-03, 8.58687854e-04,\n",
       "       4.67795151e-04, 3.47070571e-04, 3.41302512e-04, 2.38612469e-04,\n",
       "       2.14793297e-04, 4.60105684e-06], dtype=float32)"
      ]
     },
     "execution_count": 43,
     "metadata": {},
     "output_type": "execute_result"
    }
   ],
   "source": [
    "thresholds_keras"
   ]
  },
  {
   "cell_type": "markdown",
   "metadata": {},
   "source": [
    "### MODEL V3 OTHER METRICS"
   ]
  },
  {
   "cell_type": "code",
   "execution_count": 53,
   "metadata": {},
   "outputs": [
    {
     "name": "stdout",
     "output_type": "stream",
     "text": [
      "Model V3 Accuracy: 93.41614906832298 %\n",
      "Model V3 Precision: 97.18764407561088 %\n",
      "Model V3 Recall: 93.31562638335546 %\n",
      "Model V3 F1-score: 95.2122854561879 %\n"
     ]
    }
   ],
   "source": [
    "print(\"Model V3 Accuracy: {} %\".format(accuracy_score(Y_val[:,1], Y_pred_classes) * 100))\n",
    "print(\"Model V3 Precision: {} %\".format(precision_score(Y_val[:,1], Y_pred_classes) * 100))\n",
    "print(\"Model V3 Recall: {} %\".format(recall_score(Y_val[:,1], Y_pred_classes) * 100))\n",
    "print(\"Model V3 F1-score: {} %\".format(f1_score(Y_val[:,1], Y_pred_classes) * 100))"
   ]
  },
  {
   "cell_type": "markdown",
   "metadata": {},
   "source": [
    "### MODEL V4 PREDICT DATASET V2"
   ]
  },
  {
   "cell_type": "code",
   "execution_count": 12,
   "metadata": {},
   "outputs": [
    {
     "name": "stdout",
     "output_type": "stream",
     "text": [
      "3220/3220 [==============================] - 40s 12ms/step\n"
     ]
    },
    {
     "data": {
      "image/png": "[encoded data removed]",
      "text/plain": [
       "<Figure size 432x288 with 2 Axes>"
      ]
     },
     "metadata": {
      "needs_background": "light"
     },
     "output_type": "display_data"
    }
   ],
   "source": [
    "#  (clf.predict_proba(X_test)[:,1] >= 0.7367280663362746)\n",
    "Y_pred = model.predict(X_val, verbose=1)\n",
    "# Convert predictions classes to one hot vectors \n",
    "Y_pred_classes = np.argmax(Y_pred,axis = 1) \n",
    "# Convert validation observations to one hot vectors\n",
    "Y_true = np.argmax(array(Y_val),axis = 1) \n",
    "# compute the confusion matrix\n",
    "confusion_mtx = confusion_matrix(Y_true, Y_pred_classes) \n",
    "# # plot the confusion matrix\n",
    "plot_confusion_matrix(confusion_mtx, classes = range(2))"
   ]
  },
  {
   "cell_type": "markdown",
   "metadata": {},
   "source": [
    "### MODEL V4 ROC CURVE"
   ]
  },
  {
   "cell_type": "code",
   "execution_count": 13,
   "metadata": {},
   "outputs": [
    {
     "name": "stdout",
     "output_type": "stream",
     "text": [
      "3220/3220 [==============================] - 40s 12ms/step\n"
     ]
    }
   ],
   "source": [
    "y_pred_proba = model.predict_proba(X_val, verbose=1)"
   ]
  },
  {
   "cell_type": "code",
   "execution_count": 14,
   "metadata": {},
   "outputs": [
    {
     "data": {
      "text/plain": [
       "<matplotlib.legend.Legend at 0x7f63485c0dd0>"
      ]
     },
     "execution_count": 14,
     "metadata": {},
     "output_type": "execute_result"
    },
    {
     "data": {
      "image/png": "[encoded data removed]",
      "text/plain": [
       "<Figure size 720x288 with 1 Axes>"
      ]
     },
     "metadata": {
      "needs_background": "light"
     },
     "output_type": "display_data"
    }
   ],
   "source": [
    "fpr_keras, tpr_keras, thresholds_keras = roc_curve(Y_pred_classes, y_pred_proba[:,1])\n",
    "auc_keras = auc(fpr_keras, tpr_keras)\n",
    "\n",
    "plt.figure(figsize=(10,4))\n",
    "plt.plot(fpr_keras, tpr_keras, label='ROC curve (area = %0.2f)' % (auc_keras))\n",
    "plt.plot([0, 1], [0, 1], 'k--')\n",
    "plt.xlim([0.0, 1.0])\n",
    "plt.ylim([0.0, 1.05])\n",
    "plt.xlabel('False Positive Rate')\n",
    "plt.ylabel('True Positive Rate')\n",
    "plt.title('Receiver operating characteristic')\n",
    "plt.legend(loc=\"lower right\")"
   ]
  },
  {
   "cell_type": "markdown",
   "metadata": {},
   "source": [
    "### MODEL V3 OTHER METRICS"
   ]
  },
  {
   "cell_type": "code",
   "execution_count": 15,
   "metadata": {},
   "outputs": [
    {
     "name": "stdout",
     "output_type": "stream",
     "text": [
      "Model V3 Accuracy: 80.8695652173913 %\n",
      "Model V3 Precision: 95.51246537396122 %\n",
      "Model V3 Recall: 76.3169544046038 %\n",
      "Model V3 F1-score: 84.84251968503938 %\n"
     ]
    }
   ],
   "source": [
    "print(\"Model V3 Accuracy: {} %\".format(accuracy_score(Y_val[:,1], Y_pred_classes) * 100))\n",
    "print(\"Model V3 Precision: {} %\".format(precision_score(Y_val[:,1], Y_pred_classes) * 100))\n",
    "print(\"Model V3 Recall: {} %\".format(recall_score(Y_val[:,1], Y_pred_classes) * 100))\n",
    "print(\"Model V3 F1-score: {} %\".format(f1_score(Y_val[:,1], Y_pred_classes) * 100))"
   ]
  },
  {
   "cell_type": "code",
   "execution_count": null,
   "metadata": {},
   "outputs": [],
   "source": []
  }
 ],
 "metadata": {
  "environment": {
   "name": "common-cpu.m46",
   "type": "gcloud",
   "uri": "gcr.io/deeplearning-platform-release/base-cpu:m46"
  },
  "kernelspec": {
   "display_name": "Python 3",
   "language": "python",
   "name": "python3"
  },
  "language_info": {
   "codemirror_mode": {
    "name": "ipython",
    "version": 3
   },
   "file_extension": ".py",
   "mimetype": "text/x-python",
   "name": "python",
   "nbconvert_exporter": "python",
   "pygments_lexer": "ipython3",
   "version": "3.7.6"
  }
 },
 "nbformat": 4,
 "nbformat_minor": 4
}
