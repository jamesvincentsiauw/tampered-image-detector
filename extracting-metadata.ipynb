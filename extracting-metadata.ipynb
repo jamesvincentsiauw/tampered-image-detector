{
 "cells": [
  {
   "cell_type": "code",
   "execution_count": 94,
   "metadata": {},
   "outputs": [
    {
     "name": "stdout",
     "output_type": "stream",
     "text": [
      "Collecting opencv-contrib-python\n",
      "  Downloading opencv_contrib_python-4.2.0.34-cp37-cp37m-manylinux1_x86_64.whl (34.2 MB)\n",
      "\u001b[K     |████████████████████████████████| 34.2 MB 131 kB/s eta 0:00:01\n",
      "\u001b[?25hRequirement already satisfied, skipping upgrade: numpy>=1.14.5 in /opt/conda/lib/python3.7/site-packages (from opencv-contrib-python) (1.18.4)\n",
      "Installing collected packages: opencv-contrib-python\n",
      "Successfully installed opencv-contrib-python-4.2.0.34\n",
      "Note: you may need to restart the kernel to use updated packages.\n"
     ]
    }
   ],
   "source": [
    "pip install opencv-contrib-python --upgrade"
   ]
  },
  {
   "cell_type": "code",
   "execution_count": 30,
   "metadata": {},
   "outputs": [],
   "source": [
    "from PIL import Image, ExifTags\n",
    "import pandas as pd\n",
    "import os\n",
    "import cv2\n",
    "import numpy as np\n",
    "from PIL import ImageChops"
   ]
  },
  {
   "cell_type": "code",
   "execution_count": 31,
   "metadata": {},
   "outputs": [],
   "source": [
    "dataset = pd.read_csv('datasets/custom-edited/custom-edited.csv')"
   ]
  },
  {
   "cell_type": "code",
   "execution_count": 32,
   "metadata": {
    "scrolled": true
   },
   "outputs": [
    {
     "name": "stdout",
     "output_type": "stream",
     "text": [
      "datasets/custom-edited/real-11-custom.jpeg\n",
      "datasets/custom-edited/real-12-custom.jpeg\n",
      "datasets/custom-edited/real-13-custom.jpeg\n",
      "datasets/custom-edited/real-14-custom.jpeg\n",
      "datasets/custom-edited/real-15-custom.jpg\n",
      "datasets/custom-edited/real-16-custom.jpg\n",
      "datasets/custom-edited/real-17-custom.jpg\n",
      "datasets/custom-edited/real-1-custom.jpg\n",
      "datasets/custom-edited/real-2-custom.jpg\n",
      "datasets/custom-edited/real-3-custom.jpg\n",
      "datasets/custom-edited/real-4-custom.jpg\n",
      "datasets/custom-edited/real-5-custom.jpg\n",
      "datasets/custom-edited/real-6-custom.jpg\n",
      "datasets/custom-edited/real-7-custom.png\n",
      "datasets/custom-edited/real-8-custom.png\n",
      "datasets/custom-edited/real-9-custom.png\n",
      "datasets/custom-edited/tampered-10-custom.png\n",
      "datasets/custom-edited/tampered-11-custom.jpg\n",
      "datasets/custom-edited/tampered-12-custom.jpg\n",
      "datasets/custom-edited/tampered-13-custom.jpg\n",
      "datasets/custom-edited/tampered-14-custom.jpg\n",
      "datasets/custom-edited/tampered-15-custom.jpg\n",
      "datasets/custom-edited/tampered-1-custom.jpg\n",
      "datasets/custom-edited/tampered-2-custom.jpg\n",
      "datasets/custom-edited/tampered-3-custom.jpg\n",
      "datasets/custom-edited/tampered-4-custom.jpg\n",
      "datasets/custom-edited/tampered-5-custom.jpg\n",
      "datasets/custom-edited/tampered-6-custom.jpg\n",
      "datasets/custom-edited/tampered-7-custom.jpeg\n",
      "datasets/custom-edited/tampered-8-custom.jpg\n",
      "datasets/custom-edited/tampered-9-custom.png\n"
     ]
    }
   ],
   "source": [
    "for index, row in dataset.iterrows():\n",
    "    if os.path.isfile(row[0]):\n",
    "        print(row[0])"
   ]
  },
  {
   "cell_type": "code",
   "execution_count": 33,
   "metadata": {
    "scrolled": true
   },
   "outputs": [
    {
     "name": "stdout",
     "output_type": "stream",
     "text": [
      "Tidak ada EXIF dari  real-11-custom.jpeg\n",
      "\n",
      "Tidak ada EXIF dari  real-12-custom.jpeg\n",
      "\n",
      "Tidak ada EXIF dari  real-13-custom.jpeg\n",
      "\n",
      "Tidak ada EXIF dari  real-14-custom.jpeg\n",
      "\n",
      "Tidak ada EXIF dari  real-15-custom.jpg\n",
      "\n",
      "Tidak ada EXIF dari  real-16-custom.jpg\n",
      "\n",
      "EXIF dari  real-17-custom.jpg :  {'ExifVersion': b'0221', 'ColorSpace': 65535, 'ExifImageWidth': 1477, 'ExifImageHeight': 1108, 'ImageWidth': 1477, 'ImageLength': 1108, 'BitsPerSample': (8, 8, 8), 'PhotometricInterpretation': 2, 'Orientation': 1, 'SamplesPerPixel': 3, 'XResolution': (720000, 10000), 'YResolution': (720000, 10000), 'ResolutionUnit': 2, 'ExifOffset': 232, 'Software': 'Adobe Photoshop CS6 (Windows)', 'DateTime': '2019:06:12 11:44:43'}\n",
      "\n",
      "EXIF dari  real-1-custom.jpg :  {'Software': 'Windows Photo Editor 10.0.10011.16384', 'Orientation': 6, 'DateTime': '2020:06:16 11:23:55', 'ExifOffset': 2242, 'ProcessingSoftware': 'Windows Photo Editor 10.0.10011.16384'}\n",
      "\n",
      "EXIF dari  real-2-custom.jpg :  {'Software': 'Windows Photo Editor 10.0.10011.16384', 'Orientation': 8, 'DateTime': '2020:06:16 11:24:04', 'ExifOffset': 2242, 'ProcessingSoftware': 'Windows Photo Editor 10.0.10011.16384'}\n",
      "\n",
      "EXIF dari  real-3-custom.jpg :  {'Software': 'Windows Photo Editor 10.0.10011.16384', 'Orientation': 8, 'DateTime': '2020:06:16 11:24:12', 'ExifOffset': 2242, 'ProcessingSoftware': 'Windows Photo Editor 10.0.10011.16384'}\n",
      "\n",
      "EXIF dari  real-4-custom.jpg :  {'Software': 'Windows Photo Editor 10.0.10011.16384', 'Orientation': 6, 'DateTime': '2020:06:16 15:06:22', 'ExifOffset': 2242, 'ProcessingSoftware': 'Windows Photo Editor 10.0.10011.16384'}\n",
      "\n",
      "EXIF dari  real-5-custom.jpg :  {'Software': 'Windows Photo Editor 10.0.10011.16384', 'Orientation': 6, 'DateTime': '2020:06:16 15:06:32', 'ExifOffset': 2242, 'ProcessingSoftware': 'Windows Photo Editor 10.0.10011.16384'}\n",
      "\n",
      "Tidak ada EXIF dari  real-6-custom.jpg\n",
      "\n",
      "Tidak ada EXIF dari  real-7-custom.png\n",
      "\n",
      "Tidak ada EXIF dari  real-8-custom.png\n",
      "\n",
      "EXIF dari  real-9-custom.png :  {'ExifOffset': 2110, 'Orientation': 6}\n",
      "\n",
      "Tidak ada EXIF dari  tampered-10-custom.png\n",
      "\n",
      "Tidak ada EXIF dari  tampered-11-custom.jpg\n",
      "\n",
      "EXIF dari  tampered-12-custom.jpg :  {'ExifVersion': b'0221', 'ColorSpace': 65535, 'ExifImageWidth': 1706, 'ExifImageHeight': 960, 'ImageWidth': 1706, 'ImageLength': 960, 'BitsPerSample': (8, 8, 8), 'PhotometricInterpretation': 2, 'Orientation': 1, 'SamplesPerPixel': 3, 'XResolution': (720000, 10000), 'YResolution': (720000, 10000), 'ResolutionUnit': 2, 'ExifOffset': 232, 'Software': 'Adobe Photoshop CS6 (Windows)', 'DateTime': '2020:06:17 23:51:19'}\n",
      "\n",
      "EXIF dari  tampered-13-custom.jpg :  {'ExifVersion': b'0221', 'ColorSpace': 65535, 'ExifImageWidth': 410, 'ExifImageHeight': 250, 'ImageWidth': 410, 'ImageLength': 250, 'BitsPerSample': (8, 8, 8), 'PhotometricInterpretation': 2, 'Orientation': 1, 'SamplesPerPixel': 3, 'XResolution': (1500000, 10000), 'YResolution': (1500000, 10000), 'ResolutionUnit': 2, 'ExifOffset': 232, 'Software': 'Adobe Photoshop CS6 (Windows)', 'DateTime': '2020:06:17 23:52:17'}\n",
      "\n",
      "EXIF dari  tampered-14-custom.jpg :  {'ExifVersion': b'0221', 'ColorSpace': 65535, 'ExifImageWidth': 1477, 'ExifImageHeight': 1108, 'ImageWidth': 1477, 'ImageLength': 1108, 'BitsPerSample': (8, 8, 8), 'PhotometricInterpretation': 2, 'Orientation': 1, 'SamplesPerPixel': 3, 'XResolution': (720000, 10000), 'YResolution': (720000, 10000), 'ResolutionUnit': 2, 'ExifOffset': 232, 'Software': 'Adobe Photoshop CS6 (Windows)', 'DateTime': '2020:06:17 23:53:22'}\n",
      "\n",
      "EXIF dari  tampered-15-custom.jpg :  {'ExifVersion': b'0221', 'ColorSpace': 1, 'ExifImageWidth': 1272, 'ExifImageHeight': 1718, 'ImageWidth': 1272, 'ImageLength': 1718, 'BitsPerSample': (8, 8, 8), 'PhotometricInterpretation': 2, 'Orientation': 1, 'SamplesPerPixel': 3, 'XResolution': (1500000, 10000), 'YResolution': (1500000, 10000), 'ResolutionUnit': 2, 'ExifOffset': 232, 'Software': 'Adobe Photoshop CS6 (Windows)', 'DateTime': '2020:06:17 23:55:47'}\n",
      "\n",
      "EXIF dari  tampered-1-custom.jpg :  {'ExifVersion': b'0221', 'ColorSpace': 65535, 'ExifImageWidth': 960, 'ExifImageHeight': 1706, 'ImageWidth': 960, 'ImageLength': 1706, 'BitsPerSample': (8, 8, 8), 'PhotometricInterpretation': 2, 'ProcessingSoftware': 'Windows Photo Editor 10.0.10011.16384', 'Orientation': 1, 'SamplesPerPixel': 3, 'XResolution': (960000, 10000), 'YResolution': (960000, 10000), 'ResolutionUnit': 2, 'ExifOffset': 2352, 'Software': 'Adobe Photoshop CS6 (Windows)', 'DateTime': '2020:06:16 11:26:05'}\n",
      "\n",
      "EXIF dari  tampered-2-custom.jpg :  {'ExifVersion': b'0221', 'ColorSpace': 65535, 'ExifImageWidth': 1706, 'ExifImageHeight': 960, 'ImageWidth': 1706, 'ImageLength': 960, 'BitsPerSample': (8, 8, 8), 'PhotometricInterpretation': 2, 'ProcessingSoftware': 'Windows Photo Editor 10.0.10011.16384', 'Orientation': 1, 'SamplesPerPixel': 3, 'XResolution': (960000, 10000), 'YResolution': (960000, 10000), 'ResolutionUnit': 2, 'ExifOffset': 2352, 'Software': 'Adobe Photoshop CS6 (Windows)', 'DateTime': '2020:06:16 11:27:41'}\n",
      "\n",
      "EXIF dari  tampered-3-custom.jpg :  {'ExifVersion': b'0221', 'ColorSpace': 65535, 'ExifImageWidth': 960, 'ExifImageHeight': 1706, 'ImageWidth': 960, 'ImageLength': 1706, 'BitsPerSample': (8, 8, 8), 'PhotometricInterpretation': 2, 'ProcessingSoftware': 'Windows Photo Editor 10.0.10011.16384', 'Orientation': 1, 'SamplesPerPixel': 3, 'XResolution': (960000, 10000), 'YResolution': (960000, 10000), 'ResolutionUnit': 2, 'ExifOffset': 2352, 'Software': 'Adobe Photoshop CS6 (Windows)', 'DateTime': '2020:06:16 11:28:46'}\n",
      "\n",
      "EXIF dari  tampered-4-custom.jpg :  {'ExifVersion': b'0221', 'ColorSpace': 65535, 'ExifImageWidth': 960, 'ExifImageHeight': 1706, 'ImageWidth': 960, 'ImageLength': 1706, 'BitsPerSample': (8, 8, 8), 'PhotometricInterpretation': 2, 'ProcessingSoftware': 'Windows Photo Editor 10.0.10011.16384', 'Orientation': 1, 'SamplesPerPixel': 3, 'XResolution': (960000, 10000), 'YResolution': (960000, 10000), 'ResolutionUnit': 2, 'ExifOffset': 2352, 'Software': 'Adobe Photoshop CS6 (Windows)', 'DateTime': '2020:06:16 18:32:20'}\n",
      "\n",
      "EXIF dari  tampered-5-custom.jpg :  {'ExifVersion': b'0221', 'ColorSpace': 65535, 'ExifImageWidth': 960, 'ExifImageHeight': 1706, 'ImageWidth': 960, 'ImageLength': 1706, 'BitsPerSample': (8, 8, 8), 'PhotometricInterpretation': 2, 'ProcessingSoftware': 'Windows Photo Editor 10.0.10011.16384', 'Orientation': 1, 'SamplesPerPixel': 3, 'XResolution': (960000, 10000), 'YResolution': (960000, 10000), 'ResolutionUnit': 2, 'ExifOffset': 2352, 'Software': 'Adobe Photoshop CS6 (Windows)', 'DateTime': '2020:06:16 18:33:32'}\n",
      "\n",
      "EXIF dari  tampered-6-custom.jpg :  {'ExifVersion': b'0221', 'ColorSpace': 65535, 'ExifImageWidth': 960, 'ExifImageHeight': 1706, 'ImageWidth': 960, 'ImageLength': 1706, 'BitsPerSample': (8, 8, 8), 'PhotometricInterpretation': 2, 'Orientation': 1, 'SamplesPerPixel': 3, 'XResolution': (720000, 10000), 'YResolution': (720000, 10000), 'ResolutionUnit': 2, 'ExifOffset': 232, 'Software': 'Adobe Photoshop CS6 (Windows)', 'DateTime': '2020:06:16 18:34:22'}\n",
      "\n",
      "Tidak ada EXIF dari  tampered-7-custom.jpeg\n",
      "\n",
      "EXIF dari  tampered-8-custom.jpg :  {'ColorSpace': 1, 'ExifImageWidth': 720, 'ExifImageHeight': 1280, 'ResolutionUnit': 2, 'ExifOffset': 164, 'Software': 'Adobe Photoshop CC (Windows)', 'Orientation': 1, 'DateTime': '2019:04:06 21:34:44', 'XResolution': (720000, 10000), 'YResolution': (720000, 10000)}\n",
      "\n",
      "Tidak ada EXIF dari  tampered-9-custom.png\n",
      "\n"
     ]
    }
   ],
   "source": [
    "for index, row in dataset.iterrows():\n",
    "    if os.path.isfile(row[0]):\n",
    "        img = Image.open(row[0])\n",
    "        if img._getexif():\n",
    "            exif = { ExifTags.TAGS[k]: v for k, v in img._getexif().items() if k in ExifTags.TAGS }\n",
    "            print(\"EXIF dari \",row[0].split('/')[2],\": \",exif, end=\"\\n\\n\")\n",
    "#             if (exif[''])\n",
    "        else:\n",
    "            print(\"Tidak ada EXIF dari \",row[0].split('/')[2], end=\"\\n\\n\")"
   ]
  },
  {
   "cell_type": "code",
   "execution_count": 65,
   "metadata": {},
   "outputs": [
    {
     "ename": "AttributeError",
     "evalue": "'NoneType' object has no attribute 'items'",
     "output_type": "error",
     "traceback": [
      "\u001b[0;31m---------------------------------------------------------------------------\u001b[0m",
      "\u001b[0;31mAttributeError\u001b[0m                            Traceback (most recent call last)",
      "\u001b[0;32m<ipython-input-65-d42a931ba944>\u001b[0m in \u001b[0;36m<module>\u001b[0;34m\u001b[0m\n\u001b[1;32m      1\u001b[0m \u001b[0mimg\u001b[0m \u001b[0;34m=\u001b[0m \u001b[0mImage\u001b[0m\u001b[0;34m.\u001b[0m\u001b[0mopen\u001b[0m\u001b[0;34m(\u001b[0m\u001b[0;34m\"datasets/custom-edited/real-11-custom.jpeg\"\u001b[0m\u001b[0;34m)\u001b[0m\u001b[0;34m\u001b[0m\u001b[0;34m\u001b[0m\u001b[0m\n\u001b[0;32m----> 2\u001b[0;31m \u001b[0mexif\u001b[0m \u001b[0;34m=\u001b[0m \u001b[0;34m{\u001b[0m \u001b[0mExifTags\u001b[0m\u001b[0;34m.\u001b[0m\u001b[0mTAGS\u001b[0m\u001b[0;34m[\u001b[0m\u001b[0mk\u001b[0m\u001b[0;34m]\u001b[0m\u001b[0;34m:\u001b[0m \u001b[0mv\u001b[0m \u001b[0;32mfor\u001b[0m \u001b[0mk\u001b[0m\u001b[0;34m,\u001b[0m \u001b[0mv\u001b[0m \u001b[0;32min\u001b[0m \u001b[0mimg\u001b[0m\u001b[0;34m.\u001b[0m\u001b[0m_getexif\u001b[0m\u001b[0;34m(\u001b[0m\u001b[0;34m)\u001b[0m\u001b[0;34m.\u001b[0m\u001b[0mitems\u001b[0m\u001b[0;34m(\u001b[0m\u001b[0;34m)\u001b[0m \u001b[0;32mif\u001b[0m \u001b[0mk\u001b[0m \u001b[0;32min\u001b[0m \u001b[0mExifTags\u001b[0m\u001b[0;34m.\u001b[0m\u001b[0mTAGS\u001b[0m \u001b[0;34m}\u001b[0m\u001b[0;34m\u001b[0m\u001b[0;34m\u001b[0m\u001b[0m\n\u001b[0m",
      "\u001b[0;31mAttributeError\u001b[0m: 'NoneType' object has no attribute 'items'"
     ]
    }
   ],
   "source": [
    "img = Image.open(\"datasets/custom-edited/real-11-custom.jpeg\")\n",
    "exif = { ExifTags.TAGS[k]: v for k, v in img._getexif().items() if k in ExifTags.TAGS }"
   ]
  },
  {
   "cell_type": "code",
   "execution_count": 47,
   "metadata": {},
   "outputs": [
    {
     "data": {
      "text/plain": [
       "{'ExifOffset': 2242,\n",
       " 'ProcessingSoftware': 'Windows Photo Editor 10.0.10011.16384',\n",
       " 'Software': 'Windows Photo Editor 10.0.10011.16384',\n",
       " 'Orientation': 8,\n",
       " 'DateTime': '2020:06:16 11:24:12'}"
      ]
     },
     "execution_count": 47,
     "metadata": {},
     "output_type": "execute_result"
    }
   ],
   "source": [
    "exif"
   ]
  },
  {
   "cell_type": "code",
   "execution_count": 66,
   "metadata": {},
   "outputs": [
    {
     "data": {
      "text/plain": [
       "{'ExifVersion': b'0221',\n",
       " 'ColorSpace': 65535,\n",
       " 'ExifImageWidth': 960,\n",
       " 'ExifImageHeight': 1706,\n",
       " 'ImageWidth': 960,\n",
       " 'ImageLength': 1706,\n",
       " 'BitsPerSample': (8, 8, 8),\n",
       " 'PhotometricInterpretation': 2,\n",
       " 'ResolutionUnit': 2,\n",
       " 'ExifOffset': 2352,\n",
       " 'ProcessingSoftware': 'Windows Photo Editor 10.0.10011.16384',\n",
       " 'Software': 'Adobe Photoshop CS6 (Windows)',\n",
       " 'Orientation': 1,\n",
       " 'DateTime': '2020:06:16 11:28:46',\n",
       " 'SamplesPerPixel': 3,\n",
       " 'XResolution': (960000, 10000),\n",
       " 'YResolution': (960000, 10000)}"
      ]
     },
     "execution_count": 66,
     "metadata": {},
     "output_type": "execute_result"
    }
   ],
   "source": [
    "exif"
   ]
  },
  {
   "cell_type": "code",
   "execution_count": 75,
   "metadata": {},
   "outputs": [],
   "source": [
    "from PIL.ExifTags import TAGS\n",
    "\n",
    "def get_exif():\n",
    "  ret = {}\n",
    "  i = Image.open('datasets/custom-edited/tampered-11-custom.jpg')\n",
    "  info = i._getexif()\n",
    "  for tag, value in info.items():\n",
    "    decoded = TAGS.get(tag, tag)\n",
    "    ret[decoded] = value\n",
    "  return ret"
   ]
  },
  {
   "cell_type": "code",
   "execution_count": 35,
   "metadata": {},
   "outputs": [
    {
     "name": "stdout",
     "output_type": "stream",
     "text": [
      "\n",
      "Fake Image\n",
      "\n",
      "Found Software Signature : Adobe Photoshop CS6 (Windows)\n"
     ]
    }
   ],
   "source": [
    "from PIL.ExifTags import TAGS\n",
    "try:\n",
    "    f=1\n",
    "    img = Image.open('datasets/custom-edited/tampered-2-custom.jpg')\n",
    "    info = img._getexif()\n",
    "    if info:\n",
    "        for (tag, value) in info.items():\n",
    "            if \"Software\" == TAGS.get(tag, tag):\n",
    "                    print(\"\\nFake Image\")\n",
    "                    print(\"\\nFound Software Signature : \" + value)\n",
    "                    f=0\n",
    "\n",
    "    if f:\n",
    "        print(\"\\nNo Software Signature Found\")\n",
    "        print(\"\\nLooks like Real\")       \n",
    "except Exception as e:\n",
    "    print(\"\\nFailed to Load Metadata : \"+str(e))"
   ]
  },
  {
   "cell_type": "code",
   "execution_count": null,
   "metadata": {},
   "outputs": [],
   "source": []
  }
 ],
 "metadata": {
  "environment": {
   "name": "common-cpu.m46",
   "type": "gcloud",
   "uri": "gcr.io/deeplearning-platform-release/base-cpu:m46"
  },
  "kernelspec": {
   "display_name": "Python 3",
   "language": "python",
   "name": "python3"
  },
  "language_info": {
   "codemirror_mode": {
    "name": "ipython",
    "version": 3
   },
   "file_extension": ".py",
   "mimetype": "text/x-python",
   "name": "python",
   "nbconvert_exporter": "python",
   "pygments_lexer": "ipython3",
   "version": "3.7.6"
  }
 },
 "nbformat": 4,
 "nbformat_minor": 4
}
