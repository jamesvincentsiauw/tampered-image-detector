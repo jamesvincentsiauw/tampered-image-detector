{
 "cells": [
  {
   "cell_type": "code",
   "execution_count": 71,
   "metadata": {},
   "outputs": [],
   "source": [
    "from PIL import Image, ImageChops, ImageEnhance\n",
    "from keras.models import load_model\n",
    "from keras.preprocessing import image\n",
    "import numpy as np\n",
    "from sklearn.metrics import classification_report, precision_score"
   ]
  },
  {
   "cell_type": "code",
   "execution_count": 56,
   "metadata": {},
   "outputs": [],
   "source": [
    "def convert_to_ela_image(path, quality):\n",
    "    filename = path\n",
    "    resaved_filename = filename.split('.')[0] + '.resaved.jpg'\n",
    "    ELA_filename = filename.split('.')[0] + '.ela.png'\n",
    "    \n",
    "    im = Image.open(filename).convert('RGB')\n",
    "    im.save(resaved_filename, 'JPEG', quality=quality)\n",
    "    resaved_im = Image.open(resaved_filename)\n",
    "    \n",
    "    ela_im = ImageChops.difference(im, resaved_im)\n",
    "    \n",
    "    extrema = ela_im.getextrema()\n",
    "    max_diff = max([ex[1] for ex in extrema])\n",
    "    if max_diff == 0:\n",
    "        max_diff = 1\n",
    "    scale = 255.0 / max_diff\n",
    "    \n",
    "    ela_im = ImageEnhance.Brightness(ela_im).enhance(scale)\n",
    "    \n",
    "    return ela_im"
   ]
  },
  {
   "cell_type": "code",
   "execution_count": 57,
   "metadata": {},
   "outputs": [],
   "source": [
    "from skimage import transform\n",
    "def load(filename):\n",
    "    image = Image.open(filename)\n",
    "    np_image = convert_to_ela_image(filename, 90)\n",
    "    np_image = np.array(np_image).astype('float32')/255\n",
    "    np_image = transform.resize(np_image, (128, 128, 3))\n",
    "    np_image = np.expand_dims(np_image, axis=0)\n",
    "    return np_image"
   ]
  },
  {
   "cell_type": "code",
   "execution_count": 58,
   "metadata": {},
   "outputs": [],
   "source": [
    "model = load_model('saved-models/model-v1-with-casia.h5')"
   ]
  },
  {
   "cell_type": "code",
   "execution_count": 68,
   "metadata": {},
   "outputs": [],
   "source": [
    "x_test=[]\n",
    "y_true=[0,1]"
   ]
  },
  {
   "cell_type": "code",
   "execution_count": 66,
   "metadata": {},
   "outputs": [],
   "source": [
    "x_test.append(load('custom test data/fake-3.jpg'))"
   ]
  },
  {
   "cell_type": "code",
   "execution_count": 79,
   "metadata": {},
   "outputs": [
    {
     "name": "stdout",
     "output_type": "stream",
     "text": [
      "              precision    recall  f1-score   support\n",
      "\n",
      "           1       1.00      1.00      1.00         1\n",
      "\n",
      "    accuracy                           1.00         1\n",
      "   macro avg       1.00      1.00      1.00         1\n",
      "weighted avg       1.00      1.00      1.00         1\n",
      "\n"
     ]
    }
   ],
   "source": [
    "y_pred = model.predict_classes(load('custom test data/fake-3.jpg'))\n",
    "print(classification_report([1], y_pred))"
   ]
  },
  {
   "cell_type": "code",
   "execution_count": 42,
   "metadata": {},
   "outputs": [],
   "source": [
    "def predict_image(img):\n",
    "    if bool(model.predict_classes(img)[0]):\n",
    "        return \"Tampered Image\"\n",
    "    return \"Real Image\""
   ]
  },
  {
   "cell_type": "code",
   "execution_count": 54,
   "metadata": {},
   "outputs": [
    {
     "name": "stdout",
     "output_type": "stream",
     "text": [
      "=== MODEL V1 FROM CUSTOM DATA ===\n",
      "++++ REAL IMAGE ++++\n",
      "Real Image\n",
      "\n",
      "++++ FAKE IMAGE ++++\n",
      "Tampered Image\n",
      "\n",
      "++++ REAL IMAGE ++++\n",
      "Real Image\n",
      "\n",
      "++++ FAKE IMAGE ++++\n",
      "Tampered Image\n"
     ]
    }
   ],
   "source": [
    "print(\"=== MODEL V1 FROM CUSTOM DATA ===\")\n",
    "print('++++ REAL IMAGE ++++')\n",
    "real = load('custom test data/real-3.jpg')\n",
    "print(predict_image(real), end=\"\\n\\n\")\n",
    "\n",
    "print('++++ FAKE IMAGE ++++')\n",
    "fake = load('custom test data/fake-3.jpg')\n",
    "print(predict_image(fake), end=\"\\n\\n\")\n",
    "\n",
    "print('++++ REAL IMAGE ++++')\n",
    "real = load('datasets/dataset-v1/CASIA2/Au/Au_txt_30020.jpg')\n",
    "print(predict_image(real), end=\"\\n\\n\")\n",
    "\n",
    "print('++++ FAKE IMAGE ++++')\n",
    "fake = load('datasets/dataset-v1/CASIA2/Tp/Tp_D_NNN_M_B_nat10128_ani00058_11541.jpg')\n",
    "print(predict_image(fake))"
   ]
  },
  {
   "cell_type": "code",
   "execution_count": 53,
   "metadata": {},
   "outputs": [
    {
     "name": "stdout",
     "output_type": "stream",
     "text": [
      "=== MODEL V1 FROM FACE DATASET ===\n",
      "++++ REAL IMAGE ++++\n",
      "Real Image\n",
      "\n",
      "++++ FAKE IMAGE ++++\n",
      "Real Image\n",
      "\n",
      "++++ REAL IMAGE ++++\n",
      "Real Image\n",
      "\n",
      "++++ FAKE IMAGE ++++\n",
      "Tampered Image\n"
     ]
    }
   ],
   "source": [
    "print(\"=== MODEL V1 FROM FACE DATASET ===\")\n",
    "print('++++ REAL IMAGE ++++')\n",
    "real = load('datasets/dataset-v2/real_and_fake_face/training_real/real_00995.jpg')\n",
    "print(predict_image(real), end=\"\\n\\n\")\n",
    "\n",
    "print('++++ FAKE IMAGE ++++')\n",
    "fake = load('datasets/dataset-v2/real_and_fake_face/training_fake/mid_193_1111.jpg')\n",
    "print(predict_image(fake), end=\"\\n\\n\")\n",
    "\n",
    "print('++++ REAL IMAGE ++++')\n",
    "real = load('datasets/dataset-v2/real_and_fake_face/training_real/real_01080.jpg')\n",
    "print(predict_image(real), end=\"\\n\\n\")\n",
    "\n",
    "print('++++ FAKE IMAGE ++++')\n",
    "fake = load('datasets/dataset-v2/real_and_fake_face/training_fake/hard_140_1111.jpg')\n",
    "print(predict_image(fake))"
   ]
  },
  {
   "cell_type": "code",
   "execution_count": 43,
   "metadata": {},
   "outputs": [],
   "source": [
    "model = load_model('saved-models/model-v2-with-mixed-dataset.h5')"
   ]
  },
  {
   "cell_type": "code",
   "execution_count": 48,
   "metadata": {},
   "outputs": [
    {
     "name": "stdout",
     "output_type": "stream",
     "text": [
      "=== MODEL V2 FROM CUSTOM DATA ===\n",
      "++++ REAL IMAGE ++++\n",
      "Real Image\n",
      "\n",
      "++++ FAKE IMAGE ++++\n",
      "Tampered Image\n",
      "\n",
      "++++ REAL IMAGE ++++\n",
      "Real Image\n",
      "\n",
      "++++ FAKE IMAGE ++++\n",
      "Tampered Image\n"
     ]
    }
   ],
   "source": [
    "print(\"=== MODEL V2 FROM CUSTOM DATA ===\")\n",
    "print('++++ REAL IMAGE ++++')\n",
    "real = load('custom test data/real-3.jpg')\n",
    "print(predict_image(real), end=\"\\n\\n\")\n",
    "\n",
    "print('++++ FAKE IMAGE ++++')\n",
    "fake = load('custom test data/fake-3.jpg')\n",
    "print(predict_image(fake), end=\"\\n\\n\")\n",
    "\n",
    "print('++++ REAL IMAGE ++++')\n",
    "real = load('datasets/dataset-v1/CASIA2/Au/Au_txt_30020.jpg')\n",
    "print(predict_image(real), end=\"\\n\\n\")\n",
    "\n",
    "print('++++ FAKE IMAGE ++++')\n",
    "fake = load('datasets/dataset-v1/CASIA2/Tp/Tp_D_NNN_M_B_nat10128_ani00058_11541.jpg')\n",
    "print(predict_image(fake))"
   ]
  },
  {
   "cell_type": "code",
   "execution_count": 49,
   "metadata": {},
   "outputs": [
    {
     "name": "stdout",
     "output_type": "stream",
     "text": [
      "=== MODEL V2 FROM FACE DATASET ===\n",
      "++++ REAL IMAGE ++++\n",
      "Real Image\n",
      "\n",
      "++++ FAKE IMAGE ++++\n",
      "Real Image\n",
      "\n",
      "++++ REAL IMAGE ++++\n",
      "Real Image\n",
      "\n",
      "++++ FAKE IMAGE ++++\n",
      "Tampered Image\n"
     ]
    }
   ],
   "source": [
    "print(\"=== MODEL V2 FROM FACE DATASET ===\")\n",
    "print('++++ REAL IMAGE ++++')\n",
    "real = load('datasets/dataset-v2/real_and_fake_face/training_real/real_00995.jpg')\n",
    "print(predict_image(real), end=\"\\n\\n\")\n",
    "\n",
    "print('++++ FAKE IMAGE ++++')\n",
    "fake = load('datasets/dataset-v2/real_and_fake_face/training_fake/mid_193_1111.jpg')\n",
    "print(predict_image(fake), end=\"\\n\\n\")\n",
    "\n",
    "print('++++ REAL IMAGE ++++')\n",
    "real = load('datasets/dataset-v2/real_and_fake_face/training_real/real_01080.jpg')\n",
    "print(predict_image(real), end=\"\\n\\n\")\n",
    "\n",
    "print('++++ FAKE IMAGE ++++')\n",
    "fake = load('datasets/dataset-v2/real_and_fake_face/training_fake/hard_140_1111.jpg')\n",
    "print(predict_image(fake))"
   ]
  }
 ],
 "metadata": {
  "environment": {
   "name": "common-cpu.m46",
   "type": "gcloud",
   "uri": "gcr.io/deeplearning-platform-release/base-cpu:m46"
  },
  "kernelspec": {
   "display_name": "Python 3",
   "language": "python",
   "name": "python3"
  },
  "language_info": {
   "codemirror_mode": {
    "name": "ipython",
    "version": 3
   },
   "file_extension": ".py",
   "mimetype": "text/x-python",
   "name": "python",
   "nbconvert_exporter": "python",
   "pygments_lexer": "ipython3",
   "version": "3.7.6"
  }
 },
 "nbformat": 4,
 "nbformat_minor": 4
}
