{
 "cells": [
  {
   "cell_type": "code",
   "execution_count": 17,
   "metadata": {},
   "outputs": [],
   "source": [
    "from PIL import Image, ImageChops, ImageEnhance\n",
    "from keras.models import load_model\n",
    "from keras.preprocessing import image\n",
    "import numpy as np\n",
    "from sklearn.metrics import classification_report, precision_score"
   ]
  },
  {
   "cell_type": "code",
   "execution_count": 2,
   "metadata": {},
   "outputs": [],
   "source": [
    "def convert_to_ela_image(path, quality):\n",
    "    filename = path\n",
    "    resaved_filename = filename.split('.')[0] + '.resaved.jpg'\n",
    "    ELA_filename = filename.split('.')[0] + '.ela.png'\n",
    "    \n",
    "    im = Image.open(filename).convert('RGB')\n",
    "    im.save(resaved_filename, 'JPEG', quality=quality)\n",
    "    resaved_im = Image.open(resaved_filename)\n",
    "    \n",
    "    ela_im = ImageChops.difference(im, resaved_im)\n",
    "    \n",
    "    extrema = ela_im.getextrema()\n",
    "    max_diff = max([ex[1] for ex in extrema])\n",
    "    if max_diff == 0:\n",
    "        max_diff = 1\n",
    "    scale = 255.0 / max_diff\n",
    "    \n",
    "    ela_im = ImageEnhance.Brightness(ela_im).enhance(scale)\n",
    "    \n",
    "    return ela_im"
   ]
  },
  {
   "cell_type": "code",
   "execution_count": 3,
   "metadata": {},
   "outputs": [],
   "source": [
    "from skimage import transform\n",
    "def load(filename):\n",
    "    image = Image.open(filename)\n",
    "    np_image = convert_to_ela_image(filename, 90)\n",
    "    np_image = np.array(np_image).astype('float32')/255\n",
    "    np_image = transform.resize(np_image, (128, 128, 3))\n",
    "    np_image = np.expand_dims(np_image, axis=0)\n",
    "    return np_image"
   ]
  },
  {
   "cell_type": "code",
   "execution_count": 41,
   "metadata": {},
   "outputs": [],
   "source": [
    "# model = load_model('saved-models/model-v3-with-real-fake-dataset.h5')\n",
    "# model = load_model('saved-models/model-v2-with-mixed-dataset.h5')\n",
    "model = load_model('saved-models/model-v1-with-casia.h5')"
   ]
  },
  {
   "cell_type": "code",
   "execution_count": 33,
   "metadata": {},
   "outputs": [],
   "source": [
    "def predict_image(label):\n",
    "#     print(classification_report([y_true], model.predict_classes(img)))\n",
    "    if label:\n",
    "        return \"Tampered Image\"\n",
    "    return \"Real Image\""
   ]
  },
  {
   "cell_type": "markdown",
   "metadata": {},
   "source": [
    "### BERIKUT ADALAH HASIL DARI MODEL V1 DENGAN MENGGUNAKAN TEST DARI CUSTOM DATA"
   ]
  },
  {
   "cell_type": "code",
   "execution_count": 54,
   "metadata": {},
   "outputs": [
    {
     "name": "stdout",
     "output_type": "stream",
     "text": [
      "=== MODEL V1 FROM CUSTOM DATA ===\n",
      "++++ REAL IMAGE ++++\n",
      "Real Image\n",
      "\n",
      "++++ FAKE IMAGE ++++\n",
      "Tampered Image\n",
      "\n",
      "++++ REAL IMAGE ++++\n",
      "Real Image\n",
      "\n",
      "++++ FAKE IMAGE ++++\n",
      "Tampered Image\n"
     ]
    }
   ],
   "source": [
    "print(\"=== MODEL V1 FROM CUSTOM DATA ===\")\n",
    "print('++++ REAL IMAGE ++++')\n",
    "real = load('custom test data/real-3.jpg')\n",
    "print(predict_image(real), end=\"\\n\\n\")\n",
    "\n",
    "print('++++ FAKE IMAGE ++++')\n",
    "fake = load('custom test data/fake-3.jpg')\n",
    "print(predict_image(fake), end=\"\\n\\n\")\n",
    "\n",
    "print('++++ REAL IMAGE ++++')\n",
    "real = load('datasets/dataset-v1/CASIA2/Au/Au_txt_30020.jpg')\n",
    "print(predict_image(real), end=\"\\n\\n\")\n",
    "\n",
    "print('++++ FAKE IMAGE ++++')\n",
    "fake = load('datasets/dataset-v1/CASIA2/Tp/Tp_D_NNN_M_B_nat10128_ani00058_11541.jpg')\n",
    "print(predict_image(fake))"
   ]
  },
  {
   "cell_type": "markdown",
   "metadata": {},
   "source": [
    "### BERIKUT ADALAH HASIL DARI MODEL V1 DENGAN MENGGUNAKAN TEST DARI FACE DATA"
   ]
  },
  {
   "cell_type": "code",
   "execution_count": 53,
   "metadata": {},
   "outputs": [
    {
     "name": "stdout",
     "output_type": "stream",
     "text": [
      "=== MODEL V1 FROM FACE DATASET ===\n",
      "++++ REAL IMAGE ++++\n",
      "Real Image\n",
      "\n",
      "++++ FAKE IMAGE ++++\n",
      "Real Image\n",
      "\n",
      "++++ REAL IMAGE ++++\n",
      "Real Image\n",
      "\n",
      "++++ FAKE IMAGE ++++\n",
      "Tampered Image\n"
     ]
    }
   ],
   "source": [
    "print(\"=== MODEL V1 FROM FACE DATASET ===\")\n",
    "print('++++ REAL IMAGE ++++')\n",
    "real = load('datasets/dataset-v2/real_and_fake_face/training_real/real_00995.jpg')\n",
    "print(predict_image(real), end=\"\\n\\n\")\n",
    "\n",
    "print('++++ FAKE IMAGE ++++')\n",
    "fake = load('datasets/dataset-v2/real_and_fake_face/training_fake/mid_193_1111.jpg')\n",
    "print(predict_image(fake), end=\"\\n\\n\")\n",
    "\n",
    "print('++++ REAL IMAGE ++++')\n",
    "real = load('datasets/dataset-v2/real_and_fake_face/training_real/real_01080.jpg')\n",
    "print(predict_image(real), end=\"\\n\\n\")\n",
    "\n",
    "print('++++ FAKE IMAGE ++++')\n",
    "fake = load('datasets/dataset-v2/real_and_fake_face/training_fake/hard_140_1111.jpg')\n",
    "print(predict_image(fake))"
   ]
  },
  {
   "cell_type": "markdown",
   "metadata": {},
   "source": [
    "### BERIKUT ADALAH HASIL DARI MODEL V2 DENGAN MENGGUNAKAN TEST DARI CUSTOM DATA"
   ]
  },
  {
   "cell_type": "code",
   "execution_count": 48,
   "metadata": {},
   "outputs": [
    {
     "name": "stdout",
     "output_type": "stream",
     "text": [
      "=== MODEL V2 FROM CUSTOM DATA ===\n",
      "++++ REAL IMAGE ++++\n",
      "Real Image\n",
      "\n",
      "++++ FAKE IMAGE ++++\n",
      "Tampered Image\n",
      "\n",
      "++++ REAL IMAGE ++++\n",
      "Real Image\n",
      "\n",
      "++++ FAKE IMAGE ++++\n",
      "Tampered Image\n"
     ]
    }
   ],
   "source": [
    "print(\"=== MODEL V2 FROM CUSTOM DATA ===\")\n",
    "print('++++ REAL IMAGE ++++')\n",
    "real = load('custom test data/real-3.jpg')\n",
    "print(predict_image(real), end=\"\\n\\n\")\n",
    "\n",
    "print('++++ FAKE IMAGE ++++')\n",
    "fake = load('custom test data/fake-3.jpg')\n",
    "print(predict_image(fake), end=\"\\n\\n\")\n",
    "\n",
    "print('++++ REAL IMAGE ++++')\n",
    "real = load('datasets/dataset-v1/CASIA2/Au/Au_txt_30020.jpg')\n",
    "print(predict_image(real), end=\"\\n\\n\")\n",
    "\n",
    "print('++++ FAKE IMAGE ++++')\n",
    "fake = load('datasets/dataset-v1/CASIA2/Tp/Tp_D_NNN_M_B_nat10128_ani00058_11541.jpg')\n",
    "print(predict_image(fake))"
   ]
  },
  {
   "cell_type": "markdown",
   "metadata": {},
   "source": [
    "### BERIKUT ADALAH HASIL DARI MODEL V2 DENGAN MENGGUNAKAN TEST DARI FACE DATA"
   ]
  },
  {
   "cell_type": "code",
   "execution_count": 49,
   "metadata": {},
   "outputs": [
    {
     "name": "stdout",
     "output_type": "stream",
     "text": [
      "=== MODEL V2 FROM FACE DATASET ===\n",
      "++++ REAL IMAGE ++++\n",
      "Real Image\n",
      "\n",
      "++++ FAKE IMAGE ++++\n",
      "Real Image\n",
      "\n",
      "++++ REAL IMAGE ++++\n",
      "Real Image\n",
      "\n",
      "++++ FAKE IMAGE ++++\n",
      "Tampered Image\n"
     ]
    }
   ],
   "source": [
    "print(\"=== MODEL V2 FROM FACE DATASET ===\")\n",
    "print('++++ REAL IMAGE ++++')\n",
    "real = load('datasets/dataset-v2/real_and_fake_face/training_real/real_00995.jpg')\n",
    "print(predict_image(real), end=\"\\n\\n\")\n",
    "\n",
    "print('++++ FAKE IMAGE ++++')\n",
    "fake = load('datasets/dataset-v2/real_and_fake_face/training_fake/mid_193_1111.jpg')\n",
    "print(predict_image(fake), end=\"\\n\\n\")\n",
    "\n",
    "print('++++ REAL IMAGE ++++')\n",
    "real = load('datasets/dataset-v2/real_and_fake_face/training_real/real_01080.jpg')\n",
    "print(predict_image(real), end=\"\\n\\n\")\n",
    "\n",
    "print('++++ FAKE IMAGE ++++')\n",
    "fake = load('datasets/dataset-v2/real_and_fake_face/training_fake/hard_140_1111.jpg')\n",
    "print(predict_image(fake))"
   ]
  },
  {
   "cell_type": "markdown",
   "metadata": {},
   "source": [
    "### BERIKUT ADALAH HASIL DARI MODEL V3 DENGAN MENGGUNAKAN TEST DARI FACE DATA"
   ]
  },
  {
   "cell_type": "code",
   "execution_count": 20,
   "metadata": {},
   "outputs": [
    {
     "name": "stdout",
     "output_type": "stream",
     "text": [
      "=== MODEL V3 FROM CUSTOM DATA ===\n",
      "++++ REAL IMAGE ++++\n",
      "Real Image\n",
      "\n",
      "++++ FAKE IMAGE ++++\n",
      "Tampered Image\n",
      "\n",
      "++++ REAL IMAGE ++++\n",
      "Real Image\n",
      "\n",
      "++++ FAKE IMAGE ++++\n",
      "Tampered Image\n"
     ]
    }
   ],
   "source": [
    "print(\"=== MODEL V3 FROM CUSTOM DATA ===\")\n",
    "print('++++ REAL IMAGE ++++')\n",
    "real = load('datasets/dataset-v2/real_and_fake_face/training_real/real_00995.jpg')\n",
    "print(predict_image(real), end=\"\\n\\n\")\n",
    "\n",
    "print('++++ FAKE IMAGE ++++')\n",
    "fake = load('datasets/dataset-v2/real_and_fake_face/training_fake/mid_193_1111.jpg')\n",
    "print(predict_image(fake), end=\"\\n\\n\")\n",
    "\n",
    "print('++++ REAL IMAGE ++++')\n",
    "real = load('datasets/dataset-v2/real_and_fake_face/training_real/real_01080.jpg')\n",
    "print(predict_image(real), end=\"\\n\\n\")\n",
    "\n",
    "print('++++ FAKE IMAGE ++++')\n",
    "fake = load('datasets/dataset-v2/real_and_fake_face/training_fake/hard_140_1111.jpg')\n",
    "print(predict_image(fake))"
   ]
  },
  {
   "cell_type": "code",
   "execution_count": 42,
   "metadata": {},
   "outputs": [
    {
     "name": "stdout",
     "output_type": "stream",
     "text": [
      "++++ REAL IMAGE ++++\n",
      "Result:  Real Image  with probability:  99.78442192077637 %\n",
      "\n",
      "++++ REAL IMAGE ++++\n",
      "Result:  Real Image  with probability:  89.19631242752075 %\n",
      "\n",
      "++++ REAL IMAGE ++++\n",
      "Result:  Tampered Image  with probability:  78.29382419586182 %\n",
      "\n"
     ]
    }
   ],
   "source": [
    "print('++++ REAL IMAGE ++++')\n",
    "real = load('custom test data/1.jpg')\n",
    "for i in zip(model.predict_proba(real, batch_size=50), model.predict_classes(real, batch_size=50), model.predict(real, batch_size=50)):\n",
    "    print(\"Result: \", predict_image(i[1]),\" with probability: \",max(i[0])*100,\"%\", end=\"\\n\\n\")\n",
    "\n",
    "print('++++ REAL IMAGE ++++')\n",
    "real = load('custom test data/2.jpg')\n",
    "for i in zip(model.predict_proba(real, batch_size=50), model.predict_classes(real, batch_size=50), model.predict(real, batch_size=50)):\n",
    "    print(\"Result: \", predict_image(i[1]),\" with probability: \",max(i[0])*100,\"%\", end=\"\\n\\n\")\n",
    "\n",
    "print('++++ REAL IMAGE ++++')\n",
    "real = load('custom test data/3.jpg')\n",
    "for i in zip(model.predict_proba(real, batch_size=50), model.predict_classes(real, batch_size=50), model.predict(real, batch_size=50)):\n",
    "    print(\"Result: \", predict_image(i[1]),\" with probability: \",max(i[0])*100,\"%\", end=\"\\n\\n\")"
   ]
  }
 ],
 "metadata": {
  "environment": {
   "name": "common-cpu.m46",
   "type": "gcloud",
   "uri": "gcr.io/deeplearning-platform-release/base-cpu:m46"
  },
  "kernelspec": {
   "display_name": "Python 3",
   "language": "python",
   "name": "python3"
  },
  "language_info": {
   "codemirror_mode": {
    "name": "ipython",
    "version": 3
   },
   "file_extension": ".py",
   "mimetype": "text/x-python",
   "name": "python",
   "nbconvert_exporter": "python",
   "pygments_lexer": "ipython3",
   "version": "3.6.5"
  }
 },
 "nbformat": 4,
 "nbformat_minor": 4
}
