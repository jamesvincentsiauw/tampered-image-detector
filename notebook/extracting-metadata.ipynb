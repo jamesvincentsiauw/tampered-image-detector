{
 "cells": [
  {
   "cell_type": "code",
   "execution_count": 44,
   "metadata": {},
   "outputs": [],
   "source": [
    "from PIL import Image, ExifTags\n",
    "import pandas as pd\n",
    "import os\n",
    "import cv2\n",
    "import numpy as np\n",
    "from PIL import ImageChops"
   ]
  },
  {
   "cell_type": "code",
   "execution_count": 50,
   "metadata": {},
   "outputs": [],
   "source": [
    "dataset = pd.read_csv('datasets/doku-wallet/doku-wallet.csv')"
   ]
  },
  {
   "cell_type": "code",
   "execution_count": 51,
   "metadata": {
    "scrolled": true
   },
   "outputs": [
    {
     "name": "stdout",
     "output_type": "stream",
     "text": [
      "datasets/doku-wallet/1159846246.png\n",
      "datasets/doku-wallet/selfie 1678548433.png\n",
      "datasets/doku-wallet/1014396712.png\n",
      "datasets/doku-wallet/1023702304aa.png\n",
      "datasets/doku-wallet/1017728442a.jpg\n",
      "datasets/doku-wallet/selfie 1705208902.png\n",
      "datasets/doku-wallet/1023599637.jpg\n",
      "datasets/doku-wallet/1135555695 b.jpg\n",
      "datasets/doku-wallet/1014616200.jpg\n",
      "datasets/doku-wallet/1172913738.png\n",
      "datasets/doku-wallet/1720462382 b.jpg\n",
      "datasets/doku-wallet/1974757943.png\n",
      "datasets/doku-wallet/1963081601 b.jpg\n",
      "datasets/doku-wallet/1094981002 a.png\n",
      "datasets/doku-wallet/1415202593 b.jpg\n",
      "datasets/doku-wallet/1768828768 a.jpg\n",
      "datasets/doku-wallet/1705208902.png\n",
      "datasets/doku-wallet/1029480406.png\n",
      "datasets/doku-wallet/1177378644.jpg\n",
      "datasets/doku-wallet/1102027652.png\n",
      "datasets/doku-wallet/1018143017.jpg\n",
      "datasets/doku-wallet/1140011230.png\n",
      "22\n"
     ]
    }
   ],
   "source": [
    "count = 0\n",
    "for index, row in dataset.iterrows():\n",
    "    if os.path.isfile(row[0]) and \"checkpoint\" not in row[0]:\n",
    "        print(row[0])\n",
    "        count += 1\n",
    "print(count)"
   ]
  },
  {
   "cell_type": "code",
   "execution_count": 52,
   "metadata": {
    "scrolled": true
   },
   "outputs": [
    {
     "name": "stdout",
     "output_type": "stream",
     "text": [
      "Tidak ada EXIF dari  1159846246.png\n",
      "\n",
      "Tidak ada EXIF dari  selfie 1678548433.png\n",
      "\n",
      "Tidak ada EXIF dari  1014396712.png\n",
      "\n",
      "Tidak ada EXIF dari  1023702304aa.png\n",
      "\n",
      "Tidak ada EXIF dari  1017728442a.jpg\n",
      "\n",
      "Tidak ada EXIF dari  selfie 1705208902.png\n",
      "\n",
      "Tidak ada EXIF dari  1023599637.jpg\n",
      "\n",
      "Tidak ada EXIF dari  1135555695 b.jpg\n",
      "\n",
      "Tidak ada EXIF dari  1014616200.jpg\n",
      "\n",
      "Tidak ada EXIF dari  1172913738.png\n",
      "\n",
      "Tidak ada EXIF dari  1720462382 b.jpg\n",
      "\n",
      "Tidak ada EXIF dari  1974757943.png\n",
      "\n",
      "Tidak ada EXIF dari  1963081601 b.jpg\n",
      "\n",
      "Tidak ada EXIF dari  1094981002 a.png\n",
      "\n",
      "Tidak ada EXIF dari  1415202593 b.jpg\n",
      "\n",
      "Tidak ada EXIF dari  1768828768 a.jpg\n",
      "\n",
      "Tidak ada EXIF dari  1705208902.png\n",
      "\n",
      "Tidak ada EXIF dari  1029480406.png\n",
      "\n",
      "Tidak ada EXIF dari  1177378644.jpg\n",
      "\n",
      "Tidak ada EXIF dari  1102027652.png\n",
      "\n",
      "Tidak ada EXIF dari  1018143017.jpg\n",
      "\n",
      "Tidak ada EXIF dari  1140011230.png\n",
      "\n"
     ]
    }
   ],
   "source": [
    "for index, row in dataset.iterrows():\n",
    "    if os.path.isfile(row[0]):\n",
    "        img = Image.open(row[0])\n",
    "        if img._getexif():\n",
    "            exif = { ExifTags.TAGS[k]: v for k, v in img._getexif().items() if k in ExifTags.TAGS }\n",
    "            print(\"EXIF dari \",row[0].split('/')[2],\": \",exif, end=\"\\n\\n\")\n",
    "#             if (exif[''])\n",
    "        else:\n",
    "            print(\"Tidak ada EXIF dari \",row[0].split('/')[2], end=\"\\n\\n\")"
   ]
  },
  {
   "cell_type": "code",
   "execution_count": 47,
   "metadata": {},
   "outputs": [
    {
     "data": {
      "text/plain": [
       "{'ExifOffset': 2242,\n",
       " 'ProcessingSoftware': 'Windows Photo Editor 10.0.10011.16384',\n",
       " 'Software': 'Windows Photo Editor 10.0.10011.16384',\n",
       " 'Orientation': 8,\n",
       " 'DateTime': '2020:06:16 11:24:12'}"
      ]
     },
     "execution_count": 47,
     "metadata": {},
     "output_type": "execute_result"
    }
   ],
   "source": [
    "exif"
   ]
  },
  {
   "cell_type": "code",
   "execution_count": 66,
   "metadata": {},
   "outputs": [
    {
     "data": {
      "text/plain": [
       "{'ExifVersion': b'0221',\n",
       " 'ColorSpace': 65535,\n",
       " 'ExifImageWidth': 960,\n",
       " 'ExifImageHeight': 1706,\n",
       " 'ImageWidth': 960,\n",
       " 'ImageLength': 1706,\n",
       " 'BitsPerSample': (8, 8, 8),\n",
       " 'PhotometricInterpretation': 2,\n",
       " 'ResolutionUnit': 2,\n",
       " 'ExifOffset': 2352,\n",
       " 'ProcessingSoftware': 'Windows Photo Editor 10.0.10011.16384',\n",
       " 'Software': 'Adobe Photoshop CS6 (Windows)',\n",
       " 'Orientation': 1,\n",
       " 'DateTime': '2020:06:16 11:28:46',\n",
       " 'SamplesPerPixel': 3,\n",
       " 'XResolution': (960000, 10000),\n",
       " 'YResolution': (960000, 10000)}"
      ]
     },
     "execution_count": 66,
     "metadata": {},
     "output_type": "execute_result"
    }
   ],
   "source": [
    "exif"
   ]
  },
  {
   "cell_type": "code",
   "execution_count": 75,
   "metadata": {},
   "outputs": [],
   "source": [
    "    # from PIL.ExifTags import TAGS\n",
    "\n",
    "    # def get_exif():\n",
    "    #   ret = {}\n",
    "    #   i = Image.open('datasets/custom-edited/tampered-11-custom.jpg')\n",
    "    #   info = i._getexif()\n",
    "    #   for tag, value in info.items():\n",
    "    #     decoded = TAGS.get(tag, tag)\n",
    "    #     ret[decoded] = value\n",
    "    #   return ret"
   ]
  },
  {
   "cell_type": "code",
   "execution_count": 42,
   "metadata": {},
   "outputs": [
    {
     "name": "stdout",
     "output_type": "stream",
     "text": [
      "\n",
      "No Software Signature Found\n",
      "\n",
      "Looks like Real\n"
     ]
    }
   ],
   "source": [
    "from PIL.ExifTags import TAGS\n",
    "try:\n",
    "    f=1\n",
    "    img = Image.open('datasets/custom-edited/real-7-custom.png')\n",
    "    info = img._getexif()\n",
    "    if info:\n",
    "        for (tag, value) in info.items():\n",
    "            if \"Software\" == TAGS.get(tag, tag):\n",
    "                    print(\"\\nFake Image\")\n",
    "                    print(\"\\nFound Software Signature : \" + value)\n",
    "                    f=0\n",
    "\n",
    "    if f:\n",
    "        print(\"\\nNo Software Signature Found\")\n",
    "        print(\"\\nLooks like Real\")       \n",
    "except Exception as e:\n",
    "    print(\"\\nFailed to Load Metadata : \"+str(e))"
   ]
  },
  {
   "cell_type": "code",
   "execution_count": null,
   "metadata": {},
   "outputs": [],
   "source": []
  }
 ],
 "metadata": {
  "environment": {
   "name": "common-cpu.m46",
   "type": "gcloud",
   "uri": "gcr.io/deeplearning-platform-release/base-cpu:m46"
  },
  "kernelspec": {
   "display_name": "Python 3",
   "language": "python",
   "name": "python3"
  },
  "language_info": {
   "codemirror_mode": {
    "name": "ipython",
    "version": 3
   },
   "file_extension": ".py",
   "mimetype": "text/x-python",
   "name": "python",
   "nbconvert_exporter": "python",
   "pygments_lexer": "ipython3",
   "version": "3.7.6"
  }
 },
 "nbformat": 4,
 "nbformat_minor": 4
}
