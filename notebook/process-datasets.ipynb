{
 "cells": [
  {
   "cell_type": "code",
   "execution_count": 10,
   "metadata": {},
   "outputs": [],
   "source": [
    "import os, csv\n",
    "\n",
    "count = 0\n",
    "f=open(\"datasets/dataset-v1/casia/CASIA2/casia-dataset.csv\",'r+', newline='')\n",
    "w=csv.writer(f)\n",
    "for path, dirs, files in os.walk(\"datasets/dataset-v1/casia/CASIA2/Au\"):\n",
    "    for filename in files:\n",
    "      if filename != 'Thumbs.db' and 'resaved' not in filename and count < 2000:\n",
    "        w.writerow(['datasets/dataset-v1/casia/CASIA2/Au/'+filename,'0'])\n",
    "        count +=1\n",
    "count = 0\n",
    "for path, dirs, files in os.walk(\"datasets/dataset-v1/casia/CASIA2/Tp\"):\n",
    "    for filename in files:\n",
    "      if filename != 'Thumbs.db' and 'resaved' not in filename and count < 2000:\n",
    "        w.writerow(['datasets/dataset-v1/casia/CASIA2/Tp/'+filename,'1'])\n",
    "        count+=1"
   ]
  },
  {
   "cell_type": "code",
   "execution_count": 1,
   "metadata": {},
   "outputs": [],
   "source": [
    "import os, csv\n",
    "\n",
    "f=open(\"datasets/dataset-v1/casia/CASIA2/casia-dataset-full.csv\",'r+', newline='')\n",
    "w=csv.writer(f)\n",
    "for path, dirs, files in os.walk(\"datasets/dataset-v1/CASIA2/Au\"):\n",
    "    for filename in files:\n",
    "      if filename != 'Thumbs.db' and 'resaved' not in filename:\n",
    "        w.writerow(['datasets/dataset-v1/CASIA2/Au/'+filename,'0'])\n",
    "for path, dirs, files in os.walk(\"datasets/dataset-v1/CASIA2/Tp\"):\n",
    "    for filename in files:\n",
    "      if filename != 'Thumbs.db' and 'resaved' not in filename:\n",
    "        w.writerow(['datasets/dataset-v1/CASIA2/Tp/'+filename,'1'])"
   ]
  },
  {
   "cell_type": "code",
   "execution_count": 2,
   "metadata": {},
   "outputs": [],
   "source": [
    "import os, csv\n",
    "\n",
    "f=open(\"datasets/dataset-v2/real_and_fake_face/real-fake-dataset.csv\",'r+', newline='')\n",
    "w=csv.writer(f)\n",
    "for path, dirs, files in os.walk(\"datasets/dataset-v2/real_and_fake_face/training_real\"):\n",
    "    for filename in files:\n",
    "      if filename != 'Thumbs.db' and 'resaved' not in filename:\n",
    "        w.writerow(['datasets/dataset-v2/real_and_fake_face/training_real/'+filename,'0'])\n",
    "for path, dirs, files in os.walk(\"datasets/dataset-v2/real_and_fake_face/training_fake\"):\n",
    "    for filename in files:\n",
    "      if filename != 'Thumbs.db' and 'resaved' not in filename:\n",
    "        w.writerow(['datasets/dataset-v2/real_and_fake_face/training_fake/'+filename,'1'])"
   ]
  },
  {
   "cell_type": "code",
   "execution_count": 1,
   "metadata": {},
   "outputs": [],
   "source": [
    "import os, csv\n",
    "\n",
    "count = 0\n",
    "f=open(\"datasets/mixed-dataset.csv\",'r+', newline='')\n",
    "w=csv.writer(f)\n",
    "for path, dirs, files in os.walk(\"datasets/dataset-v1/casia/CASIA2/Au\"):\n",
    "    for filename in files:\n",
    "      if filename != 'Thumbs.db' and 'resaved' not in filename and count < 2000:\n",
    "        w.writerow(['datasets/dataset-v1/casia/CASIA2/Au/'+filename,'0'])\n",
    "        count +=1\n",
    "count = 0\n",
    "for path, dirs, files in os.walk(\"datasets/dataset-v2/real_and_fake_face/training_real\"):\n",
    "    for filename in files:\n",
    "      if filename != 'Thumbs.db' and 'resaved' not in filename and count < 1500:\n",
    "        w.writerow(['datasets/dataset-v2/real_and_fake_face/training_real/'+filename,'0'])\n",
    "        count += 1\n",
    "count = 0\n",
    "for path, dirs, files in os.walk(\"datasets/dataset-v1/casia/CASIA2/Tp\"):\n",
    "    for filename in files:\n",
    "      if filename != 'Thumbs.db' and 'resaved' not in filename and count < 2000:\n",
    "        w.writerow(['datasets/dataset-v1/casia/CASIA2/Tp/'+filename,'1'])\n",
    "        count+=1\n",
    "\n",
    "count =0\n",
    "for path, dirs, files in os.walk(\"datasets/dataset-v2/real_and_fake_face/training_fake\"):\n",
    "    for filename in files:\n",
    "      if filename != 'Thumbs.db' and 'resaved' not in filename and count < 1500:\n",
    "        w.writerow(['datasets/dataset-v2/real_and_fake_face/training_fake/'+filename,'1'])\n",
    "        count+=1"
   ]
  },
  {
   "cell_type": "code",
   "execution_count": 10,
   "metadata": {},
   "outputs": [],
   "source": [
    "import os, csv\n",
    "\n",
    "f=open(\"datasets/custom-edited/custom-edited.csv\",'r+', newline='')\n",
    "w=csv.writer(f)\n",
    "for path, dirs, files in os.walk(\"datasets/custom-edited/\"):\n",
    "    for filename in files:\n",
    "      if filename != 'custom-edited.csv' and 'resaved' not in filename and 'checkpoint' not in filename:\n",
    "        if 'real' in filename:\n",
    "            Y = 0\n",
    "        elif 'tampered' in filename:\n",
    "            Y = 1\n",
    "        w.writerow(['datasets/custom-edited/'+filename,str(Y)])"
   ]
  },
  {
   "cell_type": "code",
   "execution_count": 10,
   "metadata": {},
   "outputs": [],
   "source": [
    "import os, csv\n",
    "\n",
    "f=open(\"datasets/doku-wallet/doku-wallet.csv\",'r+', newline='')\n",
    "w=csv.writer(f)\n",
    "for path, dirs, files in os.walk(\"datasets/doku-wallet/\"):\n",
    "    for filename in files:\n",
    "        if filename != 'doku-wallet.csv' and \"checkpoint\" not in filename:\n",
    "            w.writerow(['datasets/doku-wallet/'+filename])"
   ]
  },
  {
   "cell_type": "code",
   "execution_count": null,
   "metadata": {},
   "outputs": [],
   "source": []
  }
 ],
 "metadata": {
  "environment": {
   "name": "common-cpu.m46",
   "type": "gcloud",
   "uri": "gcr.io/deeplearning-platform-release/base-cpu:m46"
  },
  "kernelspec": {
   "display_name": "Python 3",
   "language": "python",
   "name": "python3"
  },
  "language_info": {
   "codemirror_mode": {
    "name": "ipython",
    "version": 3
   },
   "file_extension": ".py",
   "mimetype": "text/x-python",
   "name": "python",
   "nbconvert_exporter": "python",
   "pygments_lexer": "ipython3",
   "version": "3.7.6"
  }
 },
 "nbformat": 4,
 "nbformat_minor": 4
}
